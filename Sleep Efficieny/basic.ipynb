{
 "cells": [
  {
   "cell_type": "code",
   "execution_count": 1,
   "metadata": {},
   "outputs": [
    {
     "name": "stderr",
     "output_type": "stream",
     "text": [
      "c:\\Users\\DELL\\AppData\\Local\\Programs\\Python\\Python39\\lib\\site-packages\\scipy\\__init__.py:177: UserWarning: A NumPy version >=1.18.5 and <1.26.0 is required for this version of SciPy (detected version 1.26.3\n",
      "  warnings.warn(f\"A NumPy version >={np_minversion} and <{np_maxversion}\"\n"
     ]
    }
   ],
   "source": [
    "import pandas as pd\n",
    "import numpy as np \n",
    "import matplotlib.pyplot as plt\n",
    "import seaborn as sns"
   ]
  },
  {
   "cell_type": "code",
   "execution_count": 2,
   "metadata": {},
   "outputs": [],
   "source": [
    "df = pd.read_csv(\"Sleep_Efficiency.csv\")"
   ]
  },
  {
   "cell_type": "code",
   "execution_count": 3,
   "metadata": {},
   "outputs": [
    {
     "name": "stdout",
     "output_type": "stream",
     "text": [
      "<class 'pandas.core.frame.DataFrame'>\n",
      "RangeIndex: 452 entries, 0 to 451\n",
      "Data columns (total 15 columns):\n",
      " #   Column                  Non-Null Count  Dtype  \n",
      "---  ------                  --------------  -----  \n",
      " 0   ID                      452 non-null    int64  \n",
      " 1   Age                     452 non-null    int64  \n",
      " 2   Gender                  452 non-null    object \n",
      " 3   Bedtime                 452 non-null    object \n",
      " 4   Wakeup time             452 non-null    object \n",
      " 5   Sleep duration          452 non-null    float64\n",
      " 6   Sleep efficiency        452 non-null    float64\n",
      " 7   REM sleep percentage    452 non-null    int64  \n",
      " 8   Deep sleep percentage   452 non-null    int64  \n",
      " 9   Light sleep percentage  452 non-null    int64  \n",
      " 10  Awakenings              432 non-null    float64\n",
      " 11  Caffeine consumption    427 non-null    float64\n",
      " 12  Alcohol consumption     438 non-null    float64\n",
      " 13  Smoking status          452 non-null    object \n",
      " 14  Exercise frequency      446 non-null    float64\n",
      "dtypes: float64(6), int64(5), object(4)\n",
      "memory usage: 53.1+ KB\n"
     ]
    }
   ],
   "source": [
    "df.info()"
   ]
  },
  {
   "cell_type": "markdown",
   "metadata": {},
   "source": [
    "Changing the dtype of `bedtime` and `wakeuptime` from object to datatime"
   ]
  },
  {
   "cell_type": "code",
   "execution_count": 4,
   "metadata": {},
   "outputs": [],
   "source": [
    "df[\"Bedtime\"] = pd.to_datetime(df[\"Bedtime\"])\n",
    "df[\"Wakeup time\"] = pd.to_datetime(df[\"Wakeup time\"])"
   ]
  },
  {
   "cell_type": "code",
   "execution_count": 5,
   "metadata": {},
   "outputs": [
    {
     "name": "stdout",
     "output_type": "stream",
     "text": [
      "<class 'pandas.core.frame.DataFrame'>\n",
      "RangeIndex: 452 entries, 0 to 451\n",
      "Data columns (total 15 columns):\n",
      " #   Column                  Non-Null Count  Dtype         \n",
      "---  ------                  --------------  -----         \n",
      " 0   ID                      452 non-null    int64         \n",
      " 1   Age                     452 non-null    int64         \n",
      " 2   Gender                  452 non-null    object        \n",
      " 3   Bedtime                 452 non-null    datetime64[ns]\n",
      " 4   Wakeup time             452 non-null    datetime64[ns]\n",
      " 5   Sleep duration          452 non-null    float64       \n",
      " 6   Sleep efficiency        452 non-null    float64       \n",
      " 7   REM sleep percentage    452 non-null    int64         \n",
      " 8   Deep sleep percentage   452 non-null    int64         \n",
      " 9   Light sleep percentage  452 non-null    int64         \n",
      " 10  Awakenings              432 non-null    float64       \n",
      " 11  Caffeine consumption    427 non-null    float64       \n",
      " 12  Alcohol consumption     438 non-null    float64       \n",
      " 13  Smoking status          452 non-null    object        \n",
      " 14  Exercise frequency      446 non-null    float64       \n",
      "dtypes: datetime64[ns](2), float64(6), int64(5), object(2)\n",
      "memory usage: 53.1+ KB\n"
     ]
    }
   ],
   "source": [
    "df.info()"
   ]
  },
  {
   "cell_type": "markdown",
   "metadata": {},
   "source": [
    "Detecting and Treating missing values"
   ]
  },
  {
   "cell_type": "code",
   "execution_count": 6,
   "metadata": {},
   "outputs": [
    {
     "data": {
      "text/plain": [
       "ID                         0\n",
       "Age                        0\n",
       "Gender                     0\n",
       "Bedtime                    0\n",
       "Wakeup time                0\n",
       "Sleep duration             0\n",
       "Sleep efficiency           0\n",
       "REM sleep percentage       0\n",
       "Deep sleep percentage      0\n",
       "Light sleep percentage     0\n",
       "Awakenings                20\n",
       "Caffeine consumption      25\n",
       "Alcohol consumption       14\n",
       "Smoking status             0\n",
       "Exercise frequency         6\n",
       "dtype: int64"
      ]
     },
     "execution_count": 6,
     "metadata": {},
     "output_type": "execute_result"
    }
   ],
   "source": [
    "df.isna().sum()"
   ]
  },
  {
   "cell_type": "code",
   "execution_count": 7,
   "metadata": {},
   "outputs": [
    {
     "data": {
      "text/plain": [
       "'5.530973451327434% data misssing'"
      ]
     },
     "execution_count": 7,
     "metadata": {},
     "output_type": "execute_result"
    }
   ],
   "source": [
    "# Caffeine missing data percentage\n",
    "c_m_per = df[\"Caffeine consumption\"].isna().sum()/df[\"Caffeine consumption\"].__len__()*100\n",
    "f\"{str(c_m_per)}% data misssing\""
   ]
  },
  {
   "cell_type": "code",
   "execution_count": 8,
   "metadata": {},
   "outputs": [
    {
     "data": {
      "text/plain": [
       "'4.424778761061947% data misssing'"
      ]
     },
     "execution_count": 8,
     "metadata": {},
     "output_type": "execute_result"
    }
   ],
   "source": [
    "# Awakening missing data percentage\n",
    "a_m_per = df[\"Awakenings\"].isna().sum()/df[\"Awakenings\"].__len__()*100\n",
    "f\"{str(a_m_per)}% data misssing\""
   ]
  },
  {
   "cell_type": "code",
   "execution_count": 9,
   "metadata": {},
   "outputs": [
    {
     "data": {
      "text/plain": [
       "'3.0973451327433628% data misssing'"
      ]
     },
     "execution_count": 9,
     "metadata": {},
     "output_type": "execute_result"
    }
   ],
   "source": [
    "# Alcohol consumption  missing data percentage\n",
    "al_m_per = df[\"Alcohol consumption\"].isna().sum()/df[\"Alcohol consumption\"].__len__()*100\n",
    "f\"{str(al_m_per)}% data misssing\""
   ]
  },
  {
   "cell_type": "code",
   "execution_count": 10,
   "metadata": {},
   "outputs": [
    {
     "data": {
      "text/plain": [
       "'1.3274336283185841% data misssing'"
      ]
     },
     "execution_count": 10,
     "metadata": {},
     "output_type": "execute_result"
    }
   ],
   "source": [
    "al_m_per = df[\"Exercise frequency\"].isna().sum()/df[\"Exercise frequency\"].__len__()*100\n",
    "f\"{str(al_m_per)}% data misssing\""
   ]
  },
  {
   "cell_type": "code",
   "execution_count": 11,
   "metadata": {},
   "outputs": [
    {
     "data": {
      "text/html": [
       "<div>\n",
       "<style scoped>\n",
       "    .dataframe tbody tr th:only-of-type {\n",
       "        vertical-align: middle;\n",
       "    }\n",
       "\n",
       "    .dataframe tbody tr th {\n",
       "        vertical-align: top;\n",
       "    }\n",
       "\n",
       "    .dataframe thead th {\n",
       "        text-align: right;\n",
       "    }\n",
       "</style>\n",
       "<table border=\"1\" class=\"dataframe\">\n",
       "  <thead>\n",
       "    <tr style=\"text-align: right;\">\n",
       "      <th></th>\n",
       "      <th>ID</th>\n",
       "      <th>Age</th>\n",
       "      <th>Gender</th>\n",
       "      <th>Bedtime</th>\n",
       "      <th>Wakeup time</th>\n",
       "      <th>Sleep duration</th>\n",
       "      <th>Sleep efficiency</th>\n",
       "      <th>REM sleep percentage</th>\n",
       "      <th>Deep sleep percentage</th>\n",
       "      <th>Light sleep percentage</th>\n",
       "      <th>Awakenings</th>\n",
       "      <th>Caffeine consumption</th>\n",
       "      <th>Alcohol consumption</th>\n",
       "      <th>Smoking status</th>\n",
       "      <th>Exercise frequency</th>\n",
       "    </tr>\n",
       "  </thead>\n",
       "  <tbody>\n",
       "    <tr>\n",
       "      <th>5</th>\n",
       "      <td>6</td>\n",
       "      <td>36</td>\n",
       "      <td>Female</td>\n",
       "      <td>2021-07-01 21:00:00</td>\n",
       "      <td>2021-07-01 04:30:00</td>\n",
       "      <td>7.5</td>\n",
       "      <td>0.90</td>\n",
       "      <td>23</td>\n",
       "      <td>60</td>\n",
       "      <td>17</td>\n",
       "      <td>0.0</td>\n",
       "      <td>NaN</td>\n",
       "      <td>0.0</td>\n",
       "      <td>No</td>\n",
       "      <td>1.0</td>\n",
       "    </tr>\n",
       "    <tr>\n",
       "      <th>19</th>\n",
       "      <td>20</td>\n",
       "      <td>52</td>\n",
       "      <td>Male</td>\n",
       "      <td>2021-12-03 00:30:00</td>\n",
       "      <td>2021-12-03 07:30:00</td>\n",
       "      <td>7.0</td>\n",
       "      <td>0.89</td>\n",
       "      <td>28</td>\n",
       "      <td>52</td>\n",
       "      <td>20</td>\n",
       "      <td>NaN</td>\n",
       "      <td>50.0</td>\n",
       "      <td>0.0</td>\n",
       "      <td>Yes</td>\n",
       "      <td>3.0</td>\n",
       "    </tr>\n",
       "    <tr>\n",
       "      <th>20</th>\n",
       "      <td>21</td>\n",
       "      <td>24</td>\n",
       "      <td>Male</td>\n",
       "      <td>2021-05-02 00:00:00</td>\n",
       "      <td>2021-05-02 08:00:00</td>\n",
       "      <td>8.0</td>\n",
       "      <td>0.83</td>\n",
       "      <td>15</td>\n",
       "      <td>75</td>\n",
       "      <td>10</td>\n",
       "      <td>3.0</td>\n",
       "      <td>0.0</td>\n",
       "      <td>NaN</td>\n",
       "      <td>No</td>\n",
       "      <td>2.0</td>\n",
       "    </tr>\n",
       "    <tr>\n",
       "      <th>24</th>\n",
       "      <td>25</td>\n",
       "      <td>24</td>\n",
       "      <td>Male</td>\n",
       "      <td>2021-09-16 00:00:00</td>\n",
       "      <td>2021-09-16 07:00:00</td>\n",
       "      <td>7.0</td>\n",
       "      <td>0.88</td>\n",
       "      <td>15</td>\n",
       "      <td>75</td>\n",
       "      <td>10</td>\n",
       "      <td>1.0</td>\n",
       "      <td>NaN</td>\n",
       "      <td>5.0</td>\n",
       "      <td>No</td>\n",
       "      <td>2.0</td>\n",
       "    </tr>\n",
       "    <tr>\n",
       "      <th>26</th>\n",
       "      <td>27</td>\n",
       "      <td>36</td>\n",
       "      <td>Female</td>\n",
       "      <td>2021-06-18 00:00:00</td>\n",
       "      <td>2021-06-18 07:00:00</td>\n",
       "      <td>7.0</td>\n",
       "      <td>0.95</td>\n",
       "      <td>28</td>\n",
       "      <td>55</td>\n",
       "      <td>17</td>\n",
       "      <td>0.0</td>\n",
       "      <td>NaN</td>\n",
       "      <td>0.0</td>\n",
       "      <td>No</td>\n",
       "      <td>1.0</td>\n",
       "    </tr>\n",
       "    <tr>\n",
       "      <th>37</th>\n",
       "      <td>38</td>\n",
       "      <td>20</td>\n",
       "      <td>Female</td>\n",
       "      <td>2021-09-05 00:00:00</td>\n",
       "      <td>2021-09-05 09:00:00</td>\n",
       "      <td>9.0</td>\n",
       "      <td>0.82</td>\n",
       "      <td>26</td>\n",
       "      <td>56</td>\n",
       "      <td>18</td>\n",
       "      <td>4.0</td>\n",
       "      <td>NaN</td>\n",
       "      <td>0.0</td>\n",
       "      <td>No</td>\n",
       "      <td>1.0</td>\n",
       "    </tr>\n",
       "    <tr>\n",
       "      <th>57</th>\n",
       "      <td>58</td>\n",
       "      <td>43</td>\n",
       "      <td>Male</td>\n",
       "      <td>2021-03-20 02:00:00</td>\n",
       "      <td>2021-03-20 09:30:00</td>\n",
       "      <td>7.5</td>\n",
       "      <td>0.91</td>\n",
       "      <td>23</td>\n",
       "      <td>58</td>\n",
       "      <td>19</td>\n",
       "      <td>1.0</td>\n",
       "      <td>NaN</td>\n",
       "      <td>0.0</td>\n",
       "      <td>Yes</td>\n",
       "      <td>3.0</td>\n",
       "    </tr>\n",
       "    <tr>\n",
       "      <th>60</th>\n",
       "      <td>61</td>\n",
       "      <td>32</td>\n",
       "      <td>Female</td>\n",
       "      <td>2021-06-11 02:30:00</td>\n",
       "      <td>2021-06-11 10:00:00</td>\n",
       "      <td>7.5</td>\n",
       "      <td>0.95</td>\n",
       "      <td>28</td>\n",
       "      <td>60</td>\n",
       "      <td>12</td>\n",
       "      <td>1.0</td>\n",
       "      <td>NaN</td>\n",
       "      <td>0.0</td>\n",
       "      <td>No</td>\n",
       "      <td>1.0</td>\n",
       "    </tr>\n",
       "    <tr>\n",
       "      <th>63</th>\n",
       "      <td>64</td>\n",
       "      <td>35</td>\n",
       "      <td>Female</td>\n",
       "      <td>2021-05-08 21:00:00</td>\n",
       "      <td>2021-05-08 04:30:00</td>\n",
       "      <td>7.5</td>\n",
       "      <td>0.93</td>\n",
       "      <td>28</td>\n",
       "      <td>55</td>\n",
       "      <td>17</td>\n",
       "      <td>1.0</td>\n",
       "      <td>NaN</td>\n",
       "      <td>0.0</td>\n",
       "      <td>No</td>\n",
       "      <td>1.0</td>\n",
       "    </tr>\n",
       "    <tr>\n",
       "      <th>64</th>\n",
       "      <td>65</td>\n",
       "      <td>30</td>\n",
       "      <td>Male</td>\n",
       "      <td>2021-04-24 01:30:00</td>\n",
       "      <td>2021-04-24 09:00:00</td>\n",
       "      <td>7.5</td>\n",
       "      <td>0.85</td>\n",
       "      <td>20</td>\n",
       "      <td>70</td>\n",
       "      <td>10</td>\n",
       "      <td>1.0</td>\n",
       "      <td>NaN</td>\n",
       "      <td>0.0</td>\n",
       "      <td>No</td>\n",
       "      <td>3.0</td>\n",
       "    </tr>\n",
       "    <tr>\n",
       "      <th>75</th>\n",
       "      <td>76</td>\n",
       "      <td>44</td>\n",
       "      <td>Male</td>\n",
       "      <td>2021-12-16 00:30:00</td>\n",
       "      <td>2021-12-16 09:00:00</td>\n",
       "      <td>8.5</td>\n",
       "      <td>0.68</td>\n",
       "      <td>26</td>\n",
       "      <td>28</td>\n",
       "      <td>46</td>\n",
       "      <td>2.0</td>\n",
       "      <td>0.0</td>\n",
       "      <td>NaN</td>\n",
       "      <td>Yes</td>\n",
       "      <td>1.0</td>\n",
       "    </tr>\n",
       "    <tr>\n",
       "      <th>85</th>\n",
       "      <td>86</td>\n",
       "      <td>53</td>\n",
       "      <td>Male</td>\n",
       "      <td>2021-11-06 23:00:00</td>\n",
       "      <td>2021-11-06 06:30:00</td>\n",
       "      <td>7.5</td>\n",
       "      <td>0.88</td>\n",
       "      <td>18</td>\n",
       "      <td>65</td>\n",
       "      <td>17</td>\n",
       "      <td>NaN</td>\n",
       "      <td>75.0</td>\n",
       "      <td>0.0</td>\n",
       "      <td>No</td>\n",
       "      <td>2.0</td>\n",
       "    </tr>\n",
       "    <tr>\n",
       "      <th>114</th>\n",
       "      <td>115</td>\n",
       "      <td>32</td>\n",
       "      <td>Male</td>\n",
       "      <td>2021-07-02 00:30:00</td>\n",
       "      <td>2021-07-02 09:00:00</td>\n",
       "      <td>8.5</td>\n",
       "      <td>0.89</td>\n",
       "      <td>19</td>\n",
       "      <td>63</td>\n",
       "      <td>18</td>\n",
       "      <td>1.0</td>\n",
       "      <td>NaN</td>\n",
       "      <td>0.0</td>\n",
       "      <td>Yes</td>\n",
       "      <td>1.0</td>\n",
       "    </tr>\n",
       "    <tr>\n",
       "      <th>123</th>\n",
       "      <td>124</td>\n",
       "      <td>19</td>\n",
       "      <td>Male</td>\n",
       "      <td>2021-10-05 01:30:00</td>\n",
       "      <td>2021-10-05 10:00:00</td>\n",
       "      <td>8.5</td>\n",
       "      <td>0.91</td>\n",
       "      <td>20</td>\n",
       "      <td>67</td>\n",
       "      <td>13</td>\n",
       "      <td>NaN</td>\n",
       "      <td>25.0</td>\n",
       "      <td>0.0</td>\n",
       "      <td>Yes</td>\n",
       "      <td>1.0</td>\n",
       "    </tr>\n",
       "    <tr>\n",
       "      <th>129</th>\n",
       "      <td>130</td>\n",
       "      <td>25</td>\n",
       "      <td>Male</td>\n",
       "      <td>2021-07-20 21:00:00</td>\n",
       "      <td>2021-07-20 04:00:00</td>\n",
       "      <td>7.0</td>\n",
       "      <td>0.78</td>\n",
       "      <td>18</td>\n",
       "      <td>65</td>\n",
       "      <td>17</td>\n",
       "      <td>2.0</td>\n",
       "      <td>50.0</td>\n",
       "      <td>NaN</td>\n",
       "      <td>No</td>\n",
       "      <td>3.0</td>\n",
       "    </tr>\n",
       "    <tr>\n",
       "      <th>135</th>\n",
       "      <td>136</td>\n",
       "      <td>48</td>\n",
       "      <td>Female</td>\n",
       "      <td>2021-02-03 00:00:00</td>\n",
       "      <td>2021-02-03 07:00:00</td>\n",
       "      <td>7.0</td>\n",
       "      <td>0.82</td>\n",
       "      <td>20</td>\n",
       "      <td>65</td>\n",
       "      <td>15</td>\n",
       "      <td>NaN</td>\n",
       "      <td>50.0</td>\n",
       "      <td>1.0</td>\n",
       "      <td>No</td>\n",
       "      <td>4.0</td>\n",
       "    </tr>\n",
       "    <tr>\n",
       "      <th>136</th>\n",
       "      <td>137</td>\n",
       "      <td>52</td>\n",
       "      <td>Male</td>\n",
       "      <td>2021-03-05 00:30:00</td>\n",
       "      <td>2021-03-05 07:30:00</td>\n",
       "      <td>7.0</td>\n",
       "      <td>0.90</td>\n",
       "      <td>19</td>\n",
       "      <td>63</td>\n",
       "      <td>18</td>\n",
       "      <td>0.0</td>\n",
       "      <td>NaN</td>\n",
       "      <td>3.0</td>\n",
       "      <td>Yes</td>\n",
       "      <td>1.0</td>\n",
       "    </tr>\n",
       "    <tr>\n",
       "      <th>138</th>\n",
       "      <td>139</td>\n",
       "      <td>55</td>\n",
       "      <td>Male</td>\n",
       "      <td>2021-03-01 02:30:00</td>\n",
       "      <td>2021-03-01 10:00:00</td>\n",
       "      <td>7.5</td>\n",
       "      <td>0.83</td>\n",
       "      <td>23</td>\n",
       "      <td>58</td>\n",
       "      <td>19</td>\n",
       "      <td>NaN</td>\n",
       "      <td>0.0</td>\n",
       "      <td>3.0</td>\n",
       "      <td>No</td>\n",
       "      <td>3.0</td>\n",
       "    </tr>\n",
       "    <tr>\n",
       "      <th>140</th>\n",
       "      <td>141</td>\n",
       "      <td>37</td>\n",
       "      <td>Female</td>\n",
       "      <td>2021-09-19 22:00:00</td>\n",
       "      <td>2021-09-19 06:30:00</td>\n",
       "      <td>8.5</td>\n",
       "      <td>0.54</td>\n",
       "      <td>20</td>\n",
       "      <td>32</td>\n",
       "      <td>48</td>\n",
       "      <td>2.0</td>\n",
       "      <td>25.0</td>\n",
       "      <td>NaN</td>\n",
       "      <td>Yes</td>\n",
       "      <td>0.0</td>\n",
       "    </tr>\n",
       "    <tr>\n",
       "      <th>143</th>\n",
       "      <td>144</td>\n",
       "      <td>25</td>\n",
       "      <td>Male</td>\n",
       "      <td>2021-04-21 21:30:00</td>\n",
       "      <td>2021-04-21 04:30:00</td>\n",
       "      <td>7.0</td>\n",
       "      <td>0.87</td>\n",
       "      <td>27</td>\n",
       "      <td>55</td>\n",
       "      <td>18</td>\n",
       "      <td>NaN</td>\n",
       "      <td>0.0</td>\n",
       "      <td>3.0</td>\n",
       "      <td>No</td>\n",
       "      <td>3.0</td>\n",
       "    </tr>\n",
       "    <tr>\n",
       "      <th>148</th>\n",
       "      <td>149</td>\n",
       "      <td>26</td>\n",
       "      <td>Female</td>\n",
       "      <td>2021-02-27 21:00:00</td>\n",
       "      <td>2021-02-27 05:00:00</td>\n",
       "      <td>8.0</td>\n",
       "      <td>0.75</td>\n",
       "      <td>28</td>\n",
       "      <td>60</td>\n",
       "      <td>12</td>\n",
       "      <td>3.0</td>\n",
       "      <td>50.0</td>\n",
       "      <td>NaN</td>\n",
       "      <td>No</td>\n",
       "      <td>1.0</td>\n",
       "    </tr>\n",
       "    <tr>\n",
       "      <th>149</th>\n",
       "      <td>150</td>\n",
       "      <td>33</td>\n",
       "      <td>Female</td>\n",
       "      <td>2021-09-30 02:30:00</td>\n",
       "      <td>2021-09-30 10:00:00</td>\n",
       "      <td>7.5</td>\n",
       "      <td>0.60</td>\n",
       "      <td>24</td>\n",
       "      <td>25</td>\n",
       "      <td>51</td>\n",
       "      <td>NaN</td>\n",
       "      <td>50.0</td>\n",
       "      <td>0.0</td>\n",
       "      <td>No</td>\n",
       "      <td>1.0</td>\n",
       "    </tr>\n",
       "    <tr>\n",
       "      <th>164</th>\n",
       "      <td>165</td>\n",
       "      <td>48</td>\n",
       "      <td>Male</td>\n",
       "      <td>2021-09-02 02:00:00</td>\n",
       "      <td>2021-09-02 10:00:00</td>\n",
       "      <td>8.0</td>\n",
       "      <td>0.95</td>\n",
       "      <td>20</td>\n",
       "      <td>70</td>\n",
       "      <td>10</td>\n",
       "      <td>1.0</td>\n",
       "      <td>NaN</td>\n",
       "      <td>0.0</td>\n",
       "      <td>Yes</td>\n",
       "      <td>3.0</td>\n",
       "    </tr>\n",
       "    <tr>\n",
       "      <th>169</th>\n",
       "      <td>170</td>\n",
       "      <td>55</td>\n",
       "      <td>Female</td>\n",
       "      <td>2021-12-06 01:30:00</td>\n",
       "      <td>2021-12-06 08:30:00</td>\n",
       "      <td>7.0</td>\n",
       "      <td>0.60</td>\n",
       "      <td>28</td>\n",
       "      <td>25</td>\n",
       "      <td>47</td>\n",
       "      <td>3.0</td>\n",
       "      <td>NaN</td>\n",
       "      <td>0.0</td>\n",
       "      <td>No</td>\n",
       "      <td>1.0</td>\n",
       "    </tr>\n",
       "    <tr>\n",
       "      <th>170</th>\n",
       "      <td>171</td>\n",
       "      <td>24</td>\n",
       "      <td>Male</td>\n",
       "      <td>2021-10-20 21:30:00</td>\n",
       "      <td>2021-10-20 05:30:00</td>\n",
       "      <td>8.0</td>\n",
       "      <td>0.89</td>\n",
       "      <td>27</td>\n",
       "      <td>55</td>\n",
       "      <td>18</td>\n",
       "      <td>NaN</td>\n",
       "      <td>0.0</td>\n",
       "      <td>3.0</td>\n",
       "      <td>No</td>\n",
       "      <td>3.0</td>\n",
       "    </tr>\n",
       "    <tr>\n",
       "      <th>175</th>\n",
       "      <td>176</td>\n",
       "      <td>42</td>\n",
       "      <td>Male</td>\n",
       "      <td>2021-07-07 22:00:00</td>\n",
       "      <td>2021-07-07 05:00:00</td>\n",
       "      <td>7.0</td>\n",
       "      <td>0.68</td>\n",
       "      <td>18</td>\n",
       "      <td>35</td>\n",
       "      <td>47</td>\n",
       "      <td>2.0</td>\n",
       "      <td>NaN</td>\n",
       "      <td>0.0</td>\n",
       "      <td>No</td>\n",
       "      <td>3.0</td>\n",
       "    </tr>\n",
       "    <tr>\n",
       "      <th>185</th>\n",
       "      <td>186</td>\n",
       "      <td>36</td>\n",
       "      <td>Female</td>\n",
       "      <td>2021-05-25 23:00:00</td>\n",
       "      <td>2021-05-25 06:30:00</td>\n",
       "      <td>7.5</td>\n",
       "      <td>0.94</td>\n",
       "      <td>30</td>\n",
       "      <td>55</td>\n",
       "      <td>15</td>\n",
       "      <td>0.0</td>\n",
       "      <td>50.0</td>\n",
       "      <td>NaN</td>\n",
       "      <td>No</td>\n",
       "      <td>4.0</td>\n",
       "    </tr>\n",
       "    <tr>\n",
       "      <th>186</th>\n",
       "      <td>187</td>\n",
       "      <td>37</td>\n",
       "      <td>Female</td>\n",
       "      <td>2021-12-10 00:00:00</td>\n",
       "      <td>2021-12-10 07:00:00</td>\n",
       "      <td>7.0</td>\n",
       "      <td>0.63</td>\n",
       "      <td>28</td>\n",
       "      <td>20</td>\n",
       "      <td>52</td>\n",
       "      <td>3.0</td>\n",
       "      <td>NaN</td>\n",
       "      <td>3.0</td>\n",
       "      <td>No</td>\n",
       "      <td>1.0</td>\n",
       "    </tr>\n",
       "    <tr>\n",
       "      <th>187</th>\n",
       "      <td>188</td>\n",
       "      <td>27</td>\n",
       "      <td>Male</td>\n",
       "      <td>2021-06-01 00:00:00</td>\n",
       "      <td>2021-06-01 07:00:00</td>\n",
       "      <td>7.0</td>\n",
       "      <td>0.73</td>\n",
       "      <td>18</td>\n",
       "      <td>65</td>\n",
       "      <td>17</td>\n",
       "      <td>4.0</td>\n",
       "      <td>50.0</td>\n",
       "      <td>NaN</td>\n",
       "      <td>No</td>\n",
       "      <td>2.0</td>\n",
       "    </tr>\n",
       "    <tr>\n",
       "      <th>192</th>\n",
       "      <td>193</td>\n",
       "      <td>24</td>\n",
       "      <td>Male</td>\n",
       "      <td>2021-07-14 00:00:00</td>\n",
       "      <td>2021-07-14 07:00:00</td>\n",
       "      <td>7.0</td>\n",
       "      <td>0.95</td>\n",
       "      <td>15</td>\n",
       "      <td>70</td>\n",
       "      <td>15</td>\n",
       "      <td>0.0</td>\n",
       "      <td>0.0</td>\n",
       "      <td>NaN</td>\n",
       "      <td>No</td>\n",
       "      <td>2.0</td>\n",
       "    </tr>\n",
       "    <tr>\n",
       "      <th>203</th>\n",
       "      <td>204</td>\n",
       "      <td>38</td>\n",
       "      <td>Male</td>\n",
       "      <td>2021-07-11 23:00:00</td>\n",
       "      <td>2021-07-11 07:00:00</td>\n",
       "      <td>8.0</td>\n",
       "      <td>0.50</td>\n",
       "      <td>20</td>\n",
       "      <td>30</td>\n",
       "      <td>50</td>\n",
       "      <td>3.0</td>\n",
       "      <td>NaN</td>\n",
       "      <td>3.0</td>\n",
       "      <td>Yes</td>\n",
       "      <td>2.0</td>\n",
       "    </tr>\n",
       "    <tr>\n",
       "      <th>215</th>\n",
       "      <td>216</td>\n",
       "      <td>22</td>\n",
       "      <td>Female</td>\n",
       "      <td>2021-05-14 23:00:00</td>\n",
       "      <td>2021-05-14 06:00:00</td>\n",
       "      <td>7.0</td>\n",
       "      <td>0.72</td>\n",
       "      <td>28</td>\n",
       "      <td>60</td>\n",
       "      <td>12</td>\n",
       "      <td>4.0</td>\n",
       "      <td>NaN</td>\n",
       "      <td>5.0</td>\n",
       "      <td>No</td>\n",
       "      <td>1.0</td>\n",
       "    </tr>\n",
       "    <tr>\n",
       "      <th>244</th>\n",
       "      <td>245</td>\n",
       "      <td>37</td>\n",
       "      <td>Female</td>\n",
       "      <td>2021-01-08 22:00:00</td>\n",
       "      <td>2021-01-08 05:00:00</td>\n",
       "      <td>7.0</td>\n",
       "      <td>0.92</td>\n",
       "      <td>24</td>\n",
       "      <td>59</td>\n",
       "      <td>17</td>\n",
       "      <td>NaN</td>\n",
       "      <td>0.0</td>\n",
       "      <td>0.0</td>\n",
       "      <td>No</td>\n",
       "      <td>4.0</td>\n",
       "    </tr>\n",
       "    <tr>\n",
       "      <th>249</th>\n",
       "      <td>250</td>\n",
       "      <td>61</td>\n",
       "      <td>Male</td>\n",
       "      <td>2021-04-04 00:30:00</td>\n",
       "      <td>2021-04-04 10:30:00</td>\n",
       "      <td>10.0</td>\n",
       "      <td>0.66</td>\n",
       "      <td>19</td>\n",
       "      <td>28</td>\n",
       "      <td>53</td>\n",
       "      <td>NaN</td>\n",
       "      <td>0.0</td>\n",
       "      <td>4.0</td>\n",
       "      <td>No</td>\n",
       "      <td>1.0</td>\n",
       "    </tr>\n",
       "    <tr>\n",
       "      <th>270</th>\n",
       "      <td>271</td>\n",
       "      <td>44</td>\n",
       "      <td>Female</td>\n",
       "      <td>2021-11-03 00:00:00</td>\n",
       "      <td>2021-11-03 08:00:00</td>\n",
       "      <td>8.0</td>\n",
       "      <td>0.78</td>\n",
       "      <td>23</td>\n",
       "      <td>60</td>\n",
       "      <td>17</td>\n",
       "      <td>1.0</td>\n",
       "      <td>NaN</td>\n",
       "      <td>0.0</td>\n",
       "      <td>No</td>\n",
       "      <td>0.0</td>\n",
       "    </tr>\n",
       "    <tr>\n",
       "      <th>287</th>\n",
       "      <td>288</td>\n",
       "      <td>40</td>\n",
       "      <td>Female</td>\n",
       "      <td>2021-01-06 21:30:00</td>\n",
       "      <td>2021-01-06 05:00:00</td>\n",
       "      <td>7.5</td>\n",
       "      <td>0.52</td>\n",
       "      <td>23</td>\n",
       "      <td>25</td>\n",
       "      <td>52</td>\n",
       "      <td>NaN</td>\n",
       "      <td>75.0</td>\n",
       "      <td>2.0</td>\n",
       "      <td>Yes</td>\n",
       "      <td>3.0</td>\n",
       "    </tr>\n",
       "    <tr>\n",
       "      <th>288</th>\n",
       "      <td>289</td>\n",
       "      <td>34</td>\n",
       "      <td>Female</td>\n",
       "      <td>2021-09-13 23:00:00</td>\n",
       "      <td>2021-09-13 06:00:00</td>\n",
       "      <td>7.0</td>\n",
       "      <td>0.96</td>\n",
       "      <td>20</td>\n",
       "      <td>65</td>\n",
       "      <td>15</td>\n",
       "      <td>NaN</td>\n",
       "      <td>25.0</td>\n",
       "      <td>1.0</td>\n",
       "      <td>No</td>\n",
       "      <td>0.0</td>\n",
       "    </tr>\n",
       "    <tr>\n",
       "      <th>307</th>\n",
       "      <td>308</td>\n",
       "      <td>41</td>\n",
       "      <td>Female</td>\n",
       "      <td>2021-11-29 00:30:00</td>\n",
       "      <td>2021-11-29 09:30:00</td>\n",
       "      <td>9.0</td>\n",
       "      <td>0.67</td>\n",
       "      <td>24</td>\n",
       "      <td>25</td>\n",
       "      <td>51</td>\n",
       "      <td>NaN</td>\n",
       "      <td>25.0</td>\n",
       "      <td>1.0</td>\n",
       "      <td>Yes</td>\n",
       "      <td>0.0</td>\n",
       "    </tr>\n",
       "    <tr>\n",
       "      <th>315</th>\n",
       "      <td>316</td>\n",
       "      <td>40</td>\n",
       "      <td>Female</td>\n",
       "      <td>2021-03-10 22:00:00</td>\n",
       "      <td>2021-03-10 06:00:00</td>\n",
       "      <td>8.0</td>\n",
       "      <td>0.71</td>\n",
       "      <td>25</td>\n",
       "      <td>55</td>\n",
       "      <td>20</td>\n",
       "      <td>NaN</td>\n",
       "      <td>0.0</td>\n",
       "      <td>0.0</td>\n",
       "      <td>No</td>\n",
       "      <td>3.0</td>\n",
       "    </tr>\n",
       "    <tr>\n",
       "      <th>321</th>\n",
       "      <td>322</td>\n",
       "      <td>25</td>\n",
       "      <td>Male</td>\n",
       "      <td>2021-09-11 23:00:00</td>\n",
       "      <td>2021-09-11 06:30:00</td>\n",
       "      <td>7.5</td>\n",
       "      <td>0.83</td>\n",
       "      <td>23</td>\n",
       "      <td>60</td>\n",
       "      <td>17</td>\n",
       "      <td>2.0</td>\n",
       "      <td>NaN</td>\n",
       "      <td>0.0</td>\n",
       "      <td>No</td>\n",
       "      <td>3.0</td>\n",
       "    </tr>\n",
       "    <tr>\n",
       "      <th>324</th>\n",
       "      <td>325</td>\n",
       "      <td>44</td>\n",
       "      <td>Female</td>\n",
       "      <td>2021-03-08 01:30:00</td>\n",
       "      <td>2021-03-08 07:30:00</td>\n",
       "      <td>6.0</td>\n",
       "      <td>0.75</td>\n",
       "      <td>18</td>\n",
       "      <td>70</td>\n",
       "      <td>12</td>\n",
       "      <td>4.0</td>\n",
       "      <td>NaN</td>\n",
       "      <td>0.0</td>\n",
       "      <td>No</td>\n",
       "      <td>1.0</td>\n",
       "    </tr>\n",
       "    <tr>\n",
       "      <th>327</th>\n",
       "      <td>328</td>\n",
       "      <td>44</td>\n",
       "      <td>Female</td>\n",
       "      <td>2021-10-26 23:00:00</td>\n",
       "      <td>2021-10-26 06:30:00</td>\n",
       "      <td>7.5</td>\n",
       "      <td>0.67</td>\n",
       "      <td>23</td>\n",
       "      <td>25</td>\n",
       "      <td>52</td>\n",
       "      <td>NaN</td>\n",
       "      <td>50.0</td>\n",
       "      <td>1.0</td>\n",
       "      <td>No</td>\n",
       "      <td>1.0</td>\n",
       "    </tr>\n",
       "    <tr>\n",
       "      <th>336</th>\n",
       "      <td>337</td>\n",
       "      <td>50</td>\n",
       "      <td>Female</td>\n",
       "      <td>2021-07-20 22:00:00</td>\n",
       "      <td>2021-07-20 05:00:00</td>\n",
       "      <td>7.0</td>\n",
       "      <td>0.90</td>\n",
       "      <td>22</td>\n",
       "      <td>58</td>\n",
       "      <td>20</td>\n",
       "      <td>1.0</td>\n",
       "      <td>0.0</td>\n",
       "      <td>NaN</td>\n",
       "      <td>No</td>\n",
       "      <td>5.0</td>\n",
       "    </tr>\n",
       "    <tr>\n",
       "      <th>337</th>\n",
       "      <td>338</td>\n",
       "      <td>52</td>\n",
       "      <td>Male</td>\n",
       "      <td>2021-07-05 22:30:00</td>\n",
       "      <td>2021-07-05 06:30:00</td>\n",
       "      <td>8.0</td>\n",
       "      <td>0.77</td>\n",
       "      <td>20</td>\n",
       "      <td>65</td>\n",
       "      <td>15</td>\n",
       "      <td>NaN</td>\n",
       "      <td>50.0</td>\n",
       "      <td>1.0</td>\n",
       "      <td>No</td>\n",
       "      <td>3.0</td>\n",
       "    </tr>\n",
       "    <tr>\n",
       "      <th>352</th>\n",
       "      <td>353</td>\n",
       "      <td>52</td>\n",
       "      <td>Male</td>\n",
       "      <td>2021-10-06 21:00:00</td>\n",
       "      <td>2021-10-06 05:00:00</td>\n",
       "      <td>8.0</td>\n",
       "      <td>0.86</td>\n",
       "      <td>25</td>\n",
       "      <td>55</td>\n",
       "      <td>20</td>\n",
       "      <td>NaN</td>\n",
       "      <td>0.0</td>\n",
       "      <td>5.0</td>\n",
       "      <td>No</td>\n",
       "      <td>3.0</td>\n",
       "    </tr>\n",
       "    <tr>\n",
       "      <th>355</th>\n",
       "      <td>356</td>\n",
       "      <td>39</td>\n",
       "      <td>Male</td>\n",
       "      <td>2021-10-26 02:30:00</td>\n",
       "      <td>2021-10-26 09:30:00</td>\n",
       "      <td>7.0</td>\n",
       "      <td>0.82</td>\n",
       "      <td>24</td>\n",
       "      <td>60</td>\n",
       "      <td>16</td>\n",
       "      <td>3.0</td>\n",
       "      <td>NaN</td>\n",
       "      <td>0.0</td>\n",
       "      <td>Yes</td>\n",
       "      <td>2.0</td>\n",
       "    </tr>\n",
       "    <tr>\n",
       "      <th>390</th>\n",
       "      <td>391</td>\n",
       "      <td>21</td>\n",
       "      <td>Male</td>\n",
       "      <td>2021-12-09 23:00:00</td>\n",
       "      <td>2021-12-09 06:30:00</td>\n",
       "      <td>7.5</td>\n",
       "      <td>0.81</td>\n",
       "      <td>18</td>\n",
       "      <td>65</td>\n",
       "      <td>17</td>\n",
       "      <td>2.0</td>\n",
       "      <td>NaN</td>\n",
       "      <td>0.0</td>\n",
       "      <td>No</td>\n",
       "      <td>2.0</td>\n",
       "    </tr>\n",
       "    <tr>\n",
       "      <th>392</th>\n",
       "      <td>393</td>\n",
       "      <td>37</td>\n",
       "      <td>Female</td>\n",
       "      <td>2021-08-30 23:00:00</td>\n",
       "      <td>2021-08-30 06:00:00</td>\n",
       "      <td>7.0</td>\n",
       "      <td>0.52</td>\n",
       "      <td>20</td>\n",
       "      <td>35</td>\n",
       "      <td>45</td>\n",
       "      <td>3.0</td>\n",
       "      <td>NaN</td>\n",
       "      <td>3.0</td>\n",
       "      <td>Yes</td>\n",
       "      <td>4.0</td>\n",
       "    </tr>\n",
       "    <tr>\n",
       "      <th>395</th>\n",
       "      <td>396</td>\n",
       "      <td>56</td>\n",
       "      <td>Male</td>\n",
       "      <td>2021-12-23 21:30:00</td>\n",
       "      <td>2021-12-23 05:30:00</td>\n",
       "      <td>8.0</td>\n",
       "      <td>0.83</td>\n",
       "      <td>27</td>\n",
       "      <td>55</td>\n",
       "      <td>18</td>\n",
       "      <td>2.0</td>\n",
       "      <td>0.0</td>\n",
       "      <td>NaN</td>\n",
       "      <td>No</td>\n",
       "      <td>3.0</td>\n",
       "    </tr>\n",
       "    <tr>\n",
       "      <th>404</th>\n",
       "      <td>405</td>\n",
       "      <td>24</td>\n",
       "      <td>Male</td>\n",
       "      <td>2021-04-10 02:30:00</td>\n",
       "      <td>2021-04-10 08:30:00</td>\n",
       "      <td>6.0</td>\n",
       "      <td>0.64</td>\n",
       "      <td>22</td>\n",
       "      <td>24</td>\n",
       "      <td>54</td>\n",
       "      <td>NaN</td>\n",
       "      <td>NaN</td>\n",
       "      <td>3.0</td>\n",
       "      <td>Yes</td>\n",
       "      <td>1.0</td>\n",
       "    </tr>\n",
       "    <tr>\n",
       "      <th>405</th>\n",
       "      <td>406</td>\n",
       "      <td>56</td>\n",
       "      <td>Male</td>\n",
       "      <td>2021-08-15 02:00:00</td>\n",
       "      <td>2021-08-15 07:30:00</td>\n",
       "      <td>5.5</td>\n",
       "      <td>0.90</td>\n",
       "      <td>22</td>\n",
       "      <td>57</td>\n",
       "      <td>21</td>\n",
       "      <td>0.0</td>\n",
       "      <td>0.0</td>\n",
       "      <td>NaN</td>\n",
       "      <td>Yes</td>\n",
       "      <td>3.0</td>\n",
       "    </tr>\n",
       "    <tr>\n",
       "      <th>407</th>\n",
       "      <td>408</td>\n",
       "      <td>35</td>\n",
       "      <td>Female</td>\n",
       "      <td>2021-08-31 00:30:00</td>\n",
       "      <td>2021-08-31 08:30:00</td>\n",
       "      <td>8.0</td>\n",
       "      <td>0.86</td>\n",
       "      <td>24</td>\n",
       "      <td>63</td>\n",
       "      <td>13</td>\n",
       "      <td>NaN</td>\n",
       "      <td>25.0</td>\n",
       "      <td>1.0</td>\n",
       "      <td>Yes</td>\n",
       "      <td>0.0</td>\n",
       "    </tr>\n",
       "    <tr>\n",
       "      <th>420</th>\n",
       "      <td>421</td>\n",
       "      <td>55</td>\n",
       "      <td>Male</td>\n",
       "      <td>2021-10-04 21:30:00</td>\n",
       "      <td>2021-10-04 04:30:00</td>\n",
       "      <td>7.0</td>\n",
       "      <td>0.51</td>\n",
       "      <td>27</td>\n",
       "      <td>20</td>\n",
       "      <td>53</td>\n",
       "      <td>4.0</td>\n",
       "      <td>0.0</td>\n",
       "      <td>NaN</td>\n",
       "      <td>Yes</td>\n",
       "      <td>3.0</td>\n",
       "    </tr>\n",
       "    <tr>\n",
       "      <th>426</th>\n",
       "      <td>427</td>\n",
       "      <td>26</td>\n",
       "      <td>Male</td>\n",
       "      <td>2021-05-12 23:00:00</td>\n",
       "      <td>2021-05-12 06:00:00</td>\n",
       "      <td>7.0</td>\n",
       "      <td>0.88</td>\n",
       "      <td>18</td>\n",
       "      <td>65</td>\n",
       "      <td>17</td>\n",
       "      <td>1.0</td>\n",
       "      <td>75.0</td>\n",
       "      <td>NaN</td>\n",
       "      <td>No</td>\n",
       "      <td>4.0</td>\n",
       "    </tr>\n",
       "    <tr>\n",
       "      <th>434</th>\n",
       "      <td>435</td>\n",
       "      <td>28</td>\n",
       "      <td>Female</td>\n",
       "      <td>2021-08-11 23:00:00</td>\n",
       "      <td>2021-08-11 07:00:00</td>\n",
       "      <td>8.0</td>\n",
       "      <td>0.90</td>\n",
       "      <td>22</td>\n",
       "      <td>63</td>\n",
       "      <td>15</td>\n",
       "      <td>NaN</td>\n",
       "      <td>75.0</td>\n",
       "      <td>2.0</td>\n",
       "      <td>No</td>\n",
       "      <td>4.0</td>\n",
       "    </tr>\n",
       "    <tr>\n",
       "      <th>440</th>\n",
       "      <td>441</td>\n",
       "      <td>28</td>\n",
       "      <td>Female</td>\n",
       "      <td>2021-02-06 21:00:00</td>\n",
       "      <td>2021-02-06 05:00:00</td>\n",
       "      <td>8.0</td>\n",
       "      <td>0.88</td>\n",
       "      <td>22</td>\n",
       "      <td>63</td>\n",
       "      <td>15</td>\n",
       "      <td>0.0</td>\n",
       "      <td>75.0</td>\n",
       "      <td>NaN</td>\n",
       "      <td>Yes</td>\n",
       "      <td>2.0</td>\n",
       "    </tr>\n",
       "    <tr>\n",
       "      <th>442</th>\n",
       "      <td>443</td>\n",
       "      <td>27</td>\n",
       "      <td>Female</td>\n",
       "      <td>2021-02-06 01:30:00</td>\n",
       "      <td>2021-02-06 08:30:00</td>\n",
       "      <td>7.0</td>\n",
       "      <td>0.68</td>\n",
       "      <td>23</td>\n",
       "      <td>22</td>\n",
       "      <td>55</td>\n",
       "      <td>1.0</td>\n",
       "      <td>NaN</td>\n",
       "      <td>4.0</td>\n",
       "      <td>No</td>\n",
       "      <td>1.0</td>\n",
       "    </tr>\n",
       "    <tr>\n",
       "      <th>449</th>\n",
       "      <td>450</td>\n",
       "      <td>40</td>\n",
       "      <td>Female</td>\n",
       "      <td>2021-09-07 23:00:00</td>\n",
       "      <td>2021-09-07 07:30:00</td>\n",
       "      <td>8.5</td>\n",
       "      <td>0.55</td>\n",
       "      <td>20</td>\n",
       "      <td>32</td>\n",
       "      <td>48</td>\n",
       "      <td>1.0</td>\n",
       "      <td>NaN</td>\n",
       "      <td>3.0</td>\n",
       "      <td>Yes</td>\n",
       "      <td>0.0</td>\n",
       "    </tr>\n",
       "  </tbody>\n",
       "</table>\n",
       "</div>"
      ],
      "text/plain": [
       "      ID  Age  Gender             Bedtime         Wakeup time  Sleep duration  \\\n",
       "5      6   36  Female 2021-07-01 21:00:00 2021-07-01 04:30:00             7.5   \n",
       "19    20   52    Male 2021-12-03 00:30:00 2021-12-03 07:30:00             7.0   \n",
       "20    21   24    Male 2021-05-02 00:00:00 2021-05-02 08:00:00             8.0   \n",
       "24    25   24    Male 2021-09-16 00:00:00 2021-09-16 07:00:00             7.0   \n",
       "26    27   36  Female 2021-06-18 00:00:00 2021-06-18 07:00:00             7.0   \n",
       "37    38   20  Female 2021-09-05 00:00:00 2021-09-05 09:00:00             9.0   \n",
       "57    58   43    Male 2021-03-20 02:00:00 2021-03-20 09:30:00             7.5   \n",
       "60    61   32  Female 2021-06-11 02:30:00 2021-06-11 10:00:00             7.5   \n",
       "63    64   35  Female 2021-05-08 21:00:00 2021-05-08 04:30:00             7.5   \n",
       "64    65   30    Male 2021-04-24 01:30:00 2021-04-24 09:00:00             7.5   \n",
       "75    76   44    Male 2021-12-16 00:30:00 2021-12-16 09:00:00             8.5   \n",
       "85    86   53    Male 2021-11-06 23:00:00 2021-11-06 06:30:00             7.5   \n",
       "114  115   32    Male 2021-07-02 00:30:00 2021-07-02 09:00:00             8.5   \n",
       "123  124   19    Male 2021-10-05 01:30:00 2021-10-05 10:00:00             8.5   \n",
       "129  130   25    Male 2021-07-20 21:00:00 2021-07-20 04:00:00             7.0   \n",
       "135  136   48  Female 2021-02-03 00:00:00 2021-02-03 07:00:00             7.0   \n",
       "136  137   52    Male 2021-03-05 00:30:00 2021-03-05 07:30:00             7.0   \n",
       "138  139   55    Male 2021-03-01 02:30:00 2021-03-01 10:00:00             7.5   \n",
       "140  141   37  Female 2021-09-19 22:00:00 2021-09-19 06:30:00             8.5   \n",
       "143  144   25    Male 2021-04-21 21:30:00 2021-04-21 04:30:00             7.0   \n",
       "148  149   26  Female 2021-02-27 21:00:00 2021-02-27 05:00:00             8.0   \n",
       "149  150   33  Female 2021-09-30 02:30:00 2021-09-30 10:00:00             7.5   \n",
       "164  165   48    Male 2021-09-02 02:00:00 2021-09-02 10:00:00             8.0   \n",
       "169  170   55  Female 2021-12-06 01:30:00 2021-12-06 08:30:00             7.0   \n",
       "170  171   24    Male 2021-10-20 21:30:00 2021-10-20 05:30:00             8.0   \n",
       "175  176   42    Male 2021-07-07 22:00:00 2021-07-07 05:00:00             7.0   \n",
       "185  186   36  Female 2021-05-25 23:00:00 2021-05-25 06:30:00             7.5   \n",
       "186  187   37  Female 2021-12-10 00:00:00 2021-12-10 07:00:00             7.0   \n",
       "187  188   27    Male 2021-06-01 00:00:00 2021-06-01 07:00:00             7.0   \n",
       "192  193   24    Male 2021-07-14 00:00:00 2021-07-14 07:00:00             7.0   \n",
       "203  204   38    Male 2021-07-11 23:00:00 2021-07-11 07:00:00             8.0   \n",
       "215  216   22  Female 2021-05-14 23:00:00 2021-05-14 06:00:00             7.0   \n",
       "244  245   37  Female 2021-01-08 22:00:00 2021-01-08 05:00:00             7.0   \n",
       "249  250   61    Male 2021-04-04 00:30:00 2021-04-04 10:30:00            10.0   \n",
       "270  271   44  Female 2021-11-03 00:00:00 2021-11-03 08:00:00             8.0   \n",
       "287  288   40  Female 2021-01-06 21:30:00 2021-01-06 05:00:00             7.5   \n",
       "288  289   34  Female 2021-09-13 23:00:00 2021-09-13 06:00:00             7.0   \n",
       "307  308   41  Female 2021-11-29 00:30:00 2021-11-29 09:30:00             9.0   \n",
       "315  316   40  Female 2021-03-10 22:00:00 2021-03-10 06:00:00             8.0   \n",
       "321  322   25    Male 2021-09-11 23:00:00 2021-09-11 06:30:00             7.5   \n",
       "324  325   44  Female 2021-03-08 01:30:00 2021-03-08 07:30:00             6.0   \n",
       "327  328   44  Female 2021-10-26 23:00:00 2021-10-26 06:30:00             7.5   \n",
       "336  337   50  Female 2021-07-20 22:00:00 2021-07-20 05:00:00             7.0   \n",
       "337  338   52    Male 2021-07-05 22:30:00 2021-07-05 06:30:00             8.0   \n",
       "352  353   52    Male 2021-10-06 21:00:00 2021-10-06 05:00:00             8.0   \n",
       "355  356   39    Male 2021-10-26 02:30:00 2021-10-26 09:30:00             7.0   \n",
       "390  391   21    Male 2021-12-09 23:00:00 2021-12-09 06:30:00             7.5   \n",
       "392  393   37  Female 2021-08-30 23:00:00 2021-08-30 06:00:00             7.0   \n",
       "395  396   56    Male 2021-12-23 21:30:00 2021-12-23 05:30:00             8.0   \n",
       "404  405   24    Male 2021-04-10 02:30:00 2021-04-10 08:30:00             6.0   \n",
       "405  406   56    Male 2021-08-15 02:00:00 2021-08-15 07:30:00             5.5   \n",
       "407  408   35  Female 2021-08-31 00:30:00 2021-08-31 08:30:00             8.0   \n",
       "420  421   55    Male 2021-10-04 21:30:00 2021-10-04 04:30:00             7.0   \n",
       "426  427   26    Male 2021-05-12 23:00:00 2021-05-12 06:00:00             7.0   \n",
       "434  435   28  Female 2021-08-11 23:00:00 2021-08-11 07:00:00             8.0   \n",
       "440  441   28  Female 2021-02-06 21:00:00 2021-02-06 05:00:00             8.0   \n",
       "442  443   27  Female 2021-02-06 01:30:00 2021-02-06 08:30:00             7.0   \n",
       "449  450   40  Female 2021-09-07 23:00:00 2021-09-07 07:30:00             8.5   \n",
       "\n",
       "     Sleep efficiency  REM sleep percentage  Deep sleep percentage  \\\n",
       "5                0.90                    23                     60   \n",
       "19               0.89                    28                     52   \n",
       "20               0.83                    15                     75   \n",
       "24               0.88                    15                     75   \n",
       "26               0.95                    28                     55   \n",
       "37               0.82                    26                     56   \n",
       "57               0.91                    23                     58   \n",
       "60               0.95                    28                     60   \n",
       "63               0.93                    28                     55   \n",
       "64               0.85                    20                     70   \n",
       "75               0.68                    26                     28   \n",
       "85               0.88                    18                     65   \n",
       "114              0.89                    19                     63   \n",
       "123              0.91                    20                     67   \n",
       "129              0.78                    18                     65   \n",
       "135              0.82                    20                     65   \n",
       "136              0.90                    19                     63   \n",
       "138              0.83                    23                     58   \n",
       "140              0.54                    20                     32   \n",
       "143              0.87                    27                     55   \n",
       "148              0.75                    28                     60   \n",
       "149              0.60                    24                     25   \n",
       "164              0.95                    20                     70   \n",
       "169              0.60                    28                     25   \n",
       "170              0.89                    27                     55   \n",
       "175              0.68                    18                     35   \n",
       "185              0.94                    30                     55   \n",
       "186              0.63                    28                     20   \n",
       "187              0.73                    18                     65   \n",
       "192              0.95                    15                     70   \n",
       "203              0.50                    20                     30   \n",
       "215              0.72                    28                     60   \n",
       "244              0.92                    24                     59   \n",
       "249              0.66                    19                     28   \n",
       "270              0.78                    23                     60   \n",
       "287              0.52                    23                     25   \n",
       "288              0.96                    20                     65   \n",
       "307              0.67                    24                     25   \n",
       "315              0.71                    25                     55   \n",
       "321              0.83                    23                     60   \n",
       "324              0.75                    18                     70   \n",
       "327              0.67                    23                     25   \n",
       "336              0.90                    22                     58   \n",
       "337              0.77                    20                     65   \n",
       "352              0.86                    25                     55   \n",
       "355              0.82                    24                     60   \n",
       "390              0.81                    18                     65   \n",
       "392              0.52                    20                     35   \n",
       "395              0.83                    27                     55   \n",
       "404              0.64                    22                     24   \n",
       "405              0.90                    22                     57   \n",
       "407              0.86                    24                     63   \n",
       "420              0.51                    27                     20   \n",
       "426              0.88                    18                     65   \n",
       "434              0.90                    22                     63   \n",
       "440              0.88                    22                     63   \n",
       "442              0.68                    23                     22   \n",
       "449              0.55                    20                     32   \n",
       "\n",
       "     Light sleep percentage  Awakenings  Caffeine consumption  \\\n",
       "5                        17         0.0                   NaN   \n",
       "19                       20         NaN                  50.0   \n",
       "20                       10         3.0                   0.0   \n",
       "24                       10         1.0                   NaN   \n",
       "26                       17         0.0                   NaN   \n",
       "37                       18         4.0                   NaN   \n",
       "57                       19         1.0                   NaN   \n",
       "60                       12         1.0                   NaN   \n",
       "63                       17         1.0                   NaN   \n",
       "64                       10         1.0                   NaN   \n",
       "75                       46         2.0                   0.0   \n",
       "85                       17         NaN                  75.0   \n",
       "114                      18         1.0                   NaN   \n",
       "123                      13         NaN                  25.0   \n",
       "129                      17         2.0                  50.0   \n",
       "135                      15         NaN                  50.0   \n",
       "136                      18         0.0                   NaN   \n",
       "138                      19         NaN                   0.0   \n",
       "140                      48         2.0                  25.0   \n",
       "143                      18         NaN                   0.0   \n",
       "148                      12         3.0                  50.0   \n",
       "149                      51         NaN                  50.0   \n",
       "164                      10         1.0                   NaN   \n",
       "169                      47         3.0                   NaN   \n",
       "170                      18         NaN                   0.0   \n",
       "175                      47         2.0                   NaN   \n",
       "185                      15         0.0                  50.0   \n",
       "186                      52         3.0                   NaN   \n",
       "187                      17         4.0                  50.0   \n",
       "192                      15         0.0                   0.0   \n",
       "203                      50         3.0                   NaN   \n",
       "215                      12         4.0                   NaN   \n",
       "244                      17         NaN                   0.0   \n",
       "249                      53         NaN                   0.0   \n",
       "270                      17         1.0                   NaN   \n",
       "287                      52         NaN                  75.0   \n",
       "288                      15         NaN                  25.0   \n",
       "307                      51         NaN                  25.0   \n",
       "315                      20         NaN                   0.0   \n",
       "321                      17         2.0                   NaN   \n",
       "324                      12         4.0                   NaN   \n",
       "327                      52         NaN                  50.0   \n",
       "336                      20         1.0                   0.0   \n",
       "337                      15         NaN                  50.0   \n",
       "352                      20         NaN                   0.0   \n",
       "355                      16         3.0                   NaN   \n",
       "390                      17         2.0                   NaN   \n",
       "392                      45         3.0                   NaN   \n",
       "395                      18         2.0                   0.0   \n",
       "404                      54         NaN                   NaN   \n",
       "405                      21         0.0                   0.0   \n",
       "407                      13         NaN                  25.0   \n",
       "420                      53         4.0                   0.0   \n",
       "426                      17         1.0                  75.0   \n",
       "434                      15         NaN                  75.0   \n",
       "440                      15         0.0                  75.0   \n",
       "442                      55         1.0                   NaN   \n",
       "449                      48         1.0                   NaN   \n",
       "\n",
       "     Alcohol consumption Smoking status  Exercise frequency  \n",
       "5                    0.0             No                 1.0  \n",
       "19                   0.0            Yes                 3.0  \n",
       "20                   NaN             No                 2.0  \n",
       "24                   5.0             No                 2.0  \n",
       "26                   0.0             No                 1.0  \n",
       "37                   0.0             No                 1.0  \n",
       "57                   0.0            Yes                 3.0  \n",
       "60                   0.0             No                 1.0  \n",
       "63                   0.0             No                 1.0  \n",
       "64                   0.0             No                 3.0  \n",
       "75                   NaN            Yes                 1.0  \n",
       "85                   0.0             No                 2.0  \n",
       "114                  0.0            Yes                 1.0  \n",
       "123                  0.0            Yes                 1.0  \n",
       "129                  NaN             No                 3.0  \n",
       "135                  1.0             No                 4.0  \n",
       "136                  3.0            Yes                 1.0  \n",
       "138                  3.0             No                 3.0  \n",
       "140                  NaN            Yes                 0.0  \n",
       "143                  3.0             No                 3.0  \n",
       "148                  NaN             No                 1.0  \n",
       "149                  0.0             No                 1.0  \n",
       "164                  0.0            Yes                 3.0  \n",
       "169                  0.0             No                 1.0  \n",
       "170                  3.0             No                 3.0  \n",
       "175                  0.0             No                 3.0  \n",
       "185                  NaN             No                 4.0  \n",
       "186                  3.0             No                 1.0  \n",
       "187                  NaN             No                 2.0  \n",
       "192                  NaN             No                 2.0  \n",
       "203                  3.0            Yes                 2.0  \n",
       "215                  5.0             No                 1.0  \n",
       "244                  0.0             No                 4.0  \n",
       "249                  4.0             No                 1.0  \n",
       "270                  0.0             No                 0.0  \n",
       "287                  2.0            Yes                 3.0  \n",
       "288                  1.0             No                 0.0  \n",
       "307                  1.0            Yes                 0.0  \n",
       "315                  0.0             No                 3.0  \n",
       "321                  0.0             No                 3.0  \n",
       "324                  0.0             No                 1.0  \n",
       "327                  1.0             No                 1.0  \n",
       "336                  NaN             No                 5.0  \n",
       "337                  1.0             No                 3.0  \n",
       "352                  5.0             No                 3.0  \n",
       "355                  0.0            Yes                 2.0  \n",
       "390                  0.0             No                 2.0  \n",
       "392                  3.0            Yes                 4.0  \n",
       "395                  NaN             No                 3.0  \n",
       "404                  3.0            Yes                 1.0  \n",
       "405                  NaN            Yes                 3.0  \n",
       "407                  1.0            Yes                 0.0  \n",
       "420                  NaN            Yes                 3.0  \n",
       "426                  NaN             No                 4.0  \n",
       "434                  2.0             No                 4.0  \n",
       "440                  NaN            Yes                 2.0  \n",
       "442                  4.0             No                 1.0  \n",
       "449                  3.0            Yes                 0.0  "
      ]
     },
     "execution_count": 11,
     "metadata": {},
     "output_type": "execute_result"
    }
   ],
   "source": [
    "df[df[\"Caffeine consumption\"].isna() | df[\"Alcohol consumption\"].isnull() | df[\"Awakenings\"].isnull()]"
   ]
  },
  {
   "cell_type": "code",
   "execution_count": 12,
   "metadata": {},
   "outputs": [
    {
     "data": {
      "text/plain": [
       "count    432.000000\n",
       "mean       1.641204\n",
       "std        1.356762\n",
       "min        0.000000\n",
       "25%        1.000000\n",
       "50%        1.000000\n",
       "75%        3.000000\n",
       "max        4.000000\n",
       "Name: Awakenings, dtype: float64"
      ]
     },
     "execution_count": 12,
     "metadata": {},
     "output_type": "execute_result"
    }
   ],
   "source": [
    "#Dectecting outliers before filling the values\n",
    "df[\"Awakenings\"].describe()"
   ]
  },
  {
   "cell_type": "code",
   "execution_count": 13,
   "metadata": {},
   "outputs": [
    {
     "data": {
      "text/plain": [
       "<Figure size 1000x1000 with 0 Axes>"
      ]
     },
     "metadata": {},
     "output_type": "display_data"
    },
    {
     "data": {
      "image/png": "[encoded data removed]",
      "text/plain": [
       "<Figure size 640x480 with 1 Axes>"
      ]
     },
     "metadata": {},
     "output_type": "display_data"
    }
   ],
   "source": [
    "plt.figure(figsize=(10,10))\n",
    "fig, ax = plt.subplots()\n",
    "sns.boxplot(data=df,y=\"Awakenings\")\n",
    "plt.show()\n"
   ]
  },
  {
   "cell_type": "code",
   "execution_count": 14,
   "metadata": {},
   "outputs": [
    {
     "name": "stderr",
     "output_type": "stream",
     "text": [
      "C:\\Users\\DELL\\AppData\\Local\\Temp\\ipykernel_8724\\2020771275.py:1: FutureWarning: A value is trying to be set on a copy of a DataFrame or Series through chained assignment using an inplace method.\n",
      "The behavior will change in pandas 3.0. This inplace method will never work because the intermediate object on which we are setting values always behaves as a copy.\n",
      "\n",
      "For example, when doing 'df[col].method(value, inplace=True)', try using 'df.method({col: value}, inplace=True)' or df[col] = df[col].method(value) instead, to perform the operation inplace on the original object.\n",
      "\n",
      "\n",
      "  df[\"Awakenings\"].fillna(df[\"Awakenings\"].mean(),inplace=True)\n"
     ]
    },
    {
     "data": {
      "text/plain": [
       "0"
      ]
     },
     "execution_count": 14,
     "metadata": {},
     "output_type": "execute_result"
    }
   ],
   "source": [
    "df[\"Awakenings\"].fillna(df[\"Awakenings\"].mean(),inplace=True)\n",
    "df[\"Awakenings\"].isna().sum()"
   ]
  },
  {
   "cell_type": "code",
   "execution_count": 15,
   "metadata": {},
   "outputs": [
    {
     "data": {
      "text/html": [
       "<div>\n",
       "<style scoped>\n",
       "    .dataframe tbody tr th:only-of-type {\n",
       "        vertical-align: middle;\n",
       "    }\n",
       "\n",
       "    .dataframe tbody tr th {\n",
       "        vertical-align: top;\n",
       "    }\n",
       "\n",
       "    .dataframe thead th {\n",
       "        text-align: right;\n",
       "    }\n",
       "</style>\n",
       "<table border=\"1\" class=\"dataframe\">\n",
       "  <thead>\n",
       "    <tr style=\"text-align: right;\">\n",
       "      <th></th>\n",
       "      <th>ID</th>\n",
       "      <th>Age</th>\n",
       "      <th>Gender</th>\n",
       "      <th>Bedtime</th>\n",
       "      <th>Wakeup time</th>\n",
       "      <th>Sleep duration</th>\n",
       "      <th>Sleep efficiency</th>\n",
       "      <th>REM sleep percentage</th>\n",
       "      <th>Deep sleep percentage</th>\n",
       "      <th>Light sleep percentage</th>\n",
       "      <th>Awakenings</th>\n",
       "      <th>Caffeine consumption</th>\n",
       "      <th>Alcohol consumption</th>\n",
       "      <th>Smoking status</th>\n",
       "      <th>Exercise frequency</th>\n",
       "    </tr>\n",
       "  </thead>\n",
       "  <tbody>\n",
       "  </tbody>\n",
       "</table>\n",
       "</div>"
      ],
      "text/plain": [
       "Empty DataFrame\n",
       "Columns: [ID, Age, Gender, Bedtime, Wakeup time, Sleep duration, Sleep efficiency, REM sleep percentage, Deep sleep percentage, Light sleep percentage, Awakenings, Caffeine consumption, Alcohol consumption, Smoking status, Exercise frequency]\n",
       "Index: []"
      ]
     },
     "execution_count": 15,
     "metadata": {},
     "output_type": "execute_result"
    }
   ],
   "source": [
    "df[df[\"Awakenings\"].isnull()]"
   ]
  },
  {
   "cell_type": "code",
   "execution_count": 16,
   "metadata": {},
   "outputs": [
    {
     "data": {
      "text/plain": [
       "count    427.000000\n",
       "mean      23.653396\n",
       "std       30.202785\n",
       "min        0.000000\n",
       "25%        0.000000\n",
       "50%       25.000000\n",
       "75%       50.000000\n",
       "max      200.000000\n",
       "Name: Caffeine consumption, dtype: float64"
      ]
     },
     "execution_count": 16,
     "metadata": {},
     "output_type": "execute_result"
    }
   ],
   "source": [
    "df[\"Caffeine consumption\"].describe()"
   ]
  },
  {
   "cell_type": "code",
   "execution_count": 17,
   "metadata": {},
   "outputs": [
    {
     "data": {
      "text/plain": [
       "<AxesSubplot:ylabel='Caffeine consumption'>"
      ]
     },
     "execution_count": 17,
     "metadata": {},
     "output_type": "execute_result"
    },
    {
     "data": {
      "image/png": "[encoded data removed]",
      "text/plain": [
       "<Figure size 640x480 with 1 Axes>"
      ]
     },
     "metadata": {},
     "output_type": "display_data"
    }
   ],
   "source": [
    "sns.boxplot(data=df, y=\"Caffeine consumption\")"
   ]
  },
  {
   "cell_type": "code",
   "execution_count": 18,
   "metadata": {},
   "outputs": [
    {
     "data": {
      "text/html": [
       "<div>\n",
       "<style scoped>\n",
       "    .dataframe tbody tr th:only-of-type {\n",
       "        vertical-align: middle;\n",
       "    }\n",
       "\n",
       "    .dataframe tbody tr th {\n",
       "        vertical-align: top;\n",
       "    }\n",
       "\n",
       "    .dataframe thead th {\n",
       "        text-align: right;\n",
       "    }\n",
       "</style>\n",
       "<table border=\"1\" class=\"dataframe\">\n",
       "  <thead>\n",
       "    <tr style=\"text-align: right;\">\n",
       "      <th></th>\n",
       "      <th>ID</th>\n",
       "      <th>Age</th>\n",
       "      <th>Gender</th>\n",
       "      <th>Bedtime</th>\n",
       "      <th>Wakeup time</th>\n",
       "      <th>Sleep duration</th>\n",
       "      <th>Sleep efficiency</th>\n",
       "      <th>REM sleep percentage</th>\n",
       "      <th>Deep sleep percentage</th>\n",
       "      <th>Light sleep percentage</th>\n",
       "      <th>Awakenings</th>\n",
       "      <th>Caffeine consumption</th>\n",
       "      <th>Alcohol consumption</th>\n",
       "      <th>Smoking status</th>\n",
       "      <th>Exercise frequency</th>\n",
       "    </tr>\n",
       "  </thead>\n",
       "  <tbody>\n",
       "    <tr>\n",
       "      <th>62</th>\n",
       "      <td>63</td>\n",
       "      <td>29</td>\n",
       "      <td>Male</td>\n",
       "      <td>2021-05-03 21:00:00</td>\n",
       "      <td>2021-05-03 05:00:00</td>\n",
       "      <td>8.0</td>\n",
       "      <td>0.81</td>\n",
       "      <td>15</td>\n",
       "      <td>67</td>\n",
       "      <td>18</td>\n",
       "      <td>1.0</td>\n",
       "      <td>200.0</td>\n",
       "      <td>0.0</td>\n",
       "      <td>No</td>\n",
       "      <td>NaN</td>\n",
       "    </tr>\n",
       "    <tr>\n",
       "      <th>81</th>\n",
       "      <td>82</td>\n",
       "      <td>29</td>\n",
       "      <td>Male</td>\n",
       "      <td>2021-07-11 21:00:00</td>\n",
       "      <td>2021-07-11 04:30:00</td>\n",
       "      <td>7.5</td>\n",
       "      <td>0.81</td>\n",
       "      <td>15</td>\n",
       "      <td>67</td>\n",
       "      <td>18</td>\n",
       "      <td>2.0</td>\n",
       "      <td>200.0</td>\n",
       "      <td>0.0</td>\n",
       "      <td>No</td>\n",
       "      <td>2.0</td>\n",
       "    </tr>\n",
       "    <tr>\n",
       "      <th>96</th>\n",
       "      <td>97</td>\n",
       "      <td>41</td>\n",
       "      <td>Male</td>\n",
       "      <td>2021-02-15 21:00:00</td>\n",
       "      <td>2021-02-15 04:00:00</td>\n",
       "      <td>7.0</td>\n",
       "      <td>0.96</td>\n",
       "      <td>28</td>\n",
       "      <td>55</td>\n",
       "      <td>17</td>\n",
       "      <td>0.0</td>\n",
       "      <td>200.0</td>\n",
       "      <td>0.0</td>\n",
       "      <td>No</td>\n",
       "      <td>3.0</td>\n",
       "    </tr>\n",
       "    <tr>\n",
       "      <th>161</th>\n",
       "      <td>162</td>\n",
       "      <td>42</td>\n",
       "      <td>Male</td>\n",
       "      <td>2021-11-06 21:00:00</td>\n",
       "      <td>2021-11-06 04:30:00</td>\n",
       "      <td>7.5</td>\n",
       "      <td>0.95</td>\n",
       "      <td>28</td>\n",
       "      <td>55</td>\n",
       "      <td>17</td>\n",
       "      <td>0.0</td>\n",
       "      <td>200.0</td>\n",
       "      <td>0.0</td>\n",
       "      <td>No</td>\n",
       "      <td>3.0</td>\n",
       "    </tr>\n",
       "  </tbody>\n",
       "</table>\n",
       "</div>"
      ],
      "text/plain": [
       "      ID  Age Gender             Bedtime         Wakeup time  Sleep duration  \\\n",
       "62    63   29   Male 2021-05-03 21:00:00 2021-05-03 05:00:00             8.0   \n",
       "81    82   29   Male 2021-07-11 21:00:00 2021-07-11 04:30:00             7.5   \n",
       "96    97   41   Male 2021-02-15 21:00:00 2021-02-15 04:00:00             7.0   \n",
       "161  162   42   Male 2021-11-06 21:00:00 2021-11-06 04:30:00             7.5   \n",
       "\n",
       "     Sleep efficiency  REM sleep percentage  Deep sleep percentage  \\\n",
       "62               0.81                    15                     67   \n",
       "81               0.81                    15                     67   \n",
       "96               0.96                    28                     55   \n",
       "161              0.95                    28                     55   \n",
       "\n",
       "     Light sleep percentage  Awakenings  Caffeine consumption  \\\n",
       "62                       18         1.0                 200.0   \n",
       "81                       18         2.0                 200.0   \n",
       "96                       17         0.0                 200.0   \n",
       "161                      17         0.0                 200.0   \n",
       "\n",
       "     Alcohol consumption Smoking status  Exercise frequency  \n",
       "62                   0.0             No                 NaN  \n",
       "81                   0.0             No                 2.0  \n",
       "96                   0.0             No                 3.0  \n",
       "161                  0.0             No                 3.0  "
      ]
     },
     "execution_count": 18,
     "metadata": {},
     "output_type": "execute_result"
    }
   ],
   "source": [
    "df[df[\"Caffeine consumption\"]==200]"
   ]
  },
  {
   "cell_type": "code",
   "execution_count": 19,
   "metadata": {},
   "outputs": [],
   "source": [
    "df.drop(df[df[\"Caffeine consumption\"]==200][\"Caffeine consumption\"].index,inplace=True)"
   ]
  },
  {
   "cell_type": "code",
   "execution_count": 20,
   "metadata": {},
   "outputs": [
    {
     "data": {
      "text/html": [
       "<div>\n",
       "<style scoped>\n",
       "    .dataframe tbody tr th:only-of-type {\n",
       "        vertical-align: middle;\n",
       "    }\n",
       "\n",
       "    .dataframe tbody tr th {\n",
       "        vertical-align: top;\n",
       "    }\n",
       "\n",
       "    .dataframe thead th {\n",
       "        text-align: right;\n",
       "    }\n",
       "</style>\n",
       "<table border=\"1\" class=\"dataframe\">\n",
       "  <thead>\n",
       "    <tr style=\"text-align: right;\">\n",
       "      <th></th>\n",
       "      <th>ID</th>\n",
       "      <th>Age</th>\n",
       "      <th>Gender</th>\n",
       "      <th>Bedtime</th>\n",
       "      <th>Wakeup time</th>\n",
       "      <th>Sleep duration</th>\n",
       "      <th>Sleep efficiency</th>\n",
       "      <th>REM sleep percentage</th>\n",
       "      <th>Deep sleep percentage</th>\n",
       "      <th>Light sleep percentage</th>\n",
       "      <th>Awakenings</th>\n",
       "      <th>Caffeine consumption</th>\n",
       "      <th>Alcohol consumption</th>\n",
       "      <th>Smoking status</th>\n",
       "      <th>Exercise frequency</th>\n",
       "    </tr>\n",
       "  </thead>\n",
       "  <tbody>\n",
       "  </tbody>\n",
       "</table>\n",
       "</div>"
      ],
      "text/plain": [
       "Empty DataFrame\n",
       "Columns: [ID, Age, Gender, Bedtime, Wakeup time, Sleep duration, Sleep efficiency, REM sleep percentage, Deep sleep percentage, Light sleep percentage, Awakenings, Caffeine consumption, Alcohol consumption, Smoking status, Exercise frequency]\n",
       "Index: []"
      ]
     },
     "execution_count": 20,
     "metadata": {},
     "output_type": "execute_result"
    }
   ],
   "source": [
    "df[df[\"Caffeine consumption\"]==200]"
   ]
  },
  {
   "cell_type": "code",
   "execution_count": 21,
   "metadata": {},
   "outputs": [
    {
     "name": "stderr",
     "output_type": "stream",
     "text": [
      "C:\\Users\\DELL\\AppData\\Local\\Temp\\ipykernel_8724\\2483737710.py:1: FutureWarning: A value is trying to be set on a copy of a DataFrame or Series through chained assignment using an inplace method.\n",
      "The behavior will change in pandas 3.0. This inplace method will never work because the intermediate object on which we are setting values always behaves as a copy.\n",
      "\n",
      "For example, when doing 'df[col].method(value, inplace=True)', try using 'df.method({col: value}, inplace=True)' or df[col] = df[col].method(value) instead, to perform the operation inplace on the original object.\n",
      "\n",
      "\n",
      "  df[\"Caffeine consumption\"].fillna(df[\"Caffeine consumption\"].mean(),inplace=True)\n"
     ]
    }
   ],
   "source": [
    "df[\"Caffeine consumption\"].fillna(df[\"Caffeine consumption\"].mean(),inplace=True)"
   ]
  },
  {
   "cell_type": "code",
   "execution_count": 22,
   "metadata": {},
   "outputs": [
    {
     "data": {
      "text/plain": [
       "0"
      ]
     },
     "execution_count": 22,
     "metadata": {},
     "output_type": "execute_result"
    }
   ],
   "source": [
    "df[\"Caffeine consumption\"].isnull().sum()"
   ]
  },
  {
   "cell_type": "code",
   "execution_count": 23,
   "metadata": {},
   "outputs": [
    {
     "data": {
      "text/plain": [
       "count    434.000000\n",
       "mean       1.184332\n",
       "std        1.624903\n",
       "min        0.000000\n",
       "25%        0.000000\n",
       "50%        0.000000\n",
       "75%        2.000000\n",
       "max        5.000000\n",
       "Name: Alcohol consumption, dtype: float64"
      ]
     },
     "execution_count": 23,
     "metadata": {},
     "output_type": "execute_result"
    }
   ],
   "source": [
    "df[\"Alcohol consumption\"].describe()"
   ]
  },
  {
   "cell_type": "code",
   "execution_count": 24,
   "metadata": {},
   "outputs": [
    {
     "data": {
      "text/plain": [
       "<AxesSubplot:ylabel='Alcohol consumption'>"
      ]
     },
     "execution_count": 24,
     "metadata": {},
     "output_type": "execute_result"
    },
    {
     "data": {
      "image/png": "[encoded data removed]",
      "text/plain": [
       "<Figure size 640x480 with 1 Axes>"
      ]
     },
     "metadata": {},
     "output_type": "display_data"
    }
   ],
   "source": [
    "sns.boxplot(data=df, y=\"Alcohol consumption\")"
   ]
  },
  {
   "cell_type": "code",
   "execution_count": 25,
   "metadata": {},
   "outputs": [
    {
     "data": {
      "text/plain": [
       "6.696428571428571"
      ]
     },
     "execution_count": 25,
     "metadata": {},
     "output_type": "execute_result"
    }
   ],
   "source": [
    "(df[\"Alcohol consumption\"]==5.0).sum()/df[\"Alcohol consumption\"].__len__()*100"
   ]
  },
  {
   "cell_type": "code",
   "execution_count": 26,
   "metadata": {},
   "outputs": [
    {
     "data": {
      "text/plain": [
       "8.258928571428571"
      ]
     },
     "execution_count": 26,
     "metadata": {},
     "output_type": "execute_result"
    }
   ],
   "source": [
    "(df[\"Alcohol consumption\"]==2.0).sum()/df[\"Alcohol consumption\"].__len__()*100"
   ]
  },
  {
   "cell_type": "code",
   "execution_count": 27,
   "metadata": {},
   "outputs": [
    {
     "data": {
      "text/plain": [
       "54.01785714285714"
      ]
     },
     "execution_count": 27,
     "metadata": {},
     "output_type": "execute_result"
    }
   ],
   "source": [
    "(df[\"Alcohol consumption\"]==0.0).sum()/df[\"Alcohol consumption\"].__len__()*100"
   ]
  },
  {
   "cell_type": "code",
   "execution_count": 28,
   "metadata": {},
   "outputs": [
    {
     "name": "stderr",
     "output_type": "stream",
     "text": [
      "C:\\Users\\DELL\\AppData\\Local\\Temp\\ipykernel_8724\\1529824438.py:1: FutureWarning: A value is trying to be set on a copy of a DataFrame or Series through chained assignment using an inplace method.\n",
      "The behavior will change in pandas 3.0. This inplace method will never work because the intermediate object on which we are setting values always behaves as a copy.\n",
      "\n",
      "For example, when doing 'df[col].method(value, inplace=True)', try using 'df.method({col: value}, inplace=True)' or df[col] = df[col].method(value) instead, to perform the operation inplace on the original object.\n",
      "\n",
      "\n",
      "  df[\"Alcohol consumption\"].fillna(0.0,inplace=True)\n"
     ]
    }
   ],
   "source": [
    "df[\"Alcohol consumption\"].fillna(0.0,inplace=True)"
   ]
  },
  {
   "cell_type": "code",
   "execution_count": 29,
   "metadata": {},
   "outputs": [
    {
     "data": {
      "text/plain": [
       "0"
      ]
     },
     "execution_count": 29,
     "metadata": {},
     "output_type": "execute_result"
    }
   ],
   "source": [
    "df[\"Alcohol consumption\"].isnull().sum()"
   ]
  },
  {
   "cell_type": "code",
   "execution_count": 30,
   "metadata": {},
   "outputs": [
    {
     "data": {
      "text/html": [
       "<div>\n",
       "<style scoped>\n",
       "    .dataframe tbody tr th:only-of-type {\n",
       "        vertical-align: middle;\n",
       "    }\n",
       "\n",
       "    .dataframe tbody tr th {\n",
       "        vertical-align: top;\n",
       "    }\n",
       "\n",
       "    .dataframe thead th {\n",
       "        text-align: right;\n",
       "    }\n",
       "</style>\n",
       "<table border=\"1\" class=\"dataframe\">\n",
       "  <thead>\n",
       "    <tr style=\"text-align: right;\">\n",
       "      <th></th>\n",
       "      <th>ID</th>\n",
       "      <th>Age</th>\n",
       "      <th>Gender</th>\n",
       "      <th>Bedtime</th>\n",
       "      <th>Wakeup time</th>\n",
       "      <th>Sleep duration</th>\n",
       "      <th>Sleep efficiency</th>\n",
       "      <th>REM sleep percentage</th>\n",
       "      <th>Deep sleep percentage</th>\n",
       "      <th>Light sleep percentage</th>\n",
       "      <th>Awakenings</th>\n",
       "      <th>Caffeine consumption</th>\n",
       "      <th>Alcohol consumption</th>\n",
       "      <th>Smoking status</th>\n",
       "      <th>Exercise frequency</th>\n",
       "    </tr>\n",
       "  </thead>\n",
       "  <tbody>\n",
       "    <tr>\n",
       "      <th>33</th>\n",
       "      <td>34</td>\n",
       "      <td>37</td>\n",
       "      <td>Female</td>\n",
       "      <td>2021-11-28 00:30:00</td>\n",
       "      <td>2021-11-28 07:30:00</td>\n",
       "      <td>7.0</td>\n",
       "      <td>0.90</td>\n",
       "      <td>28</td>\n",
       "      <td>53</td>\n",
       "      <td>19</td>\n",
       "      <td>0.0</td>\n",
       "      <td>25.0</td>\n",
       "      <td>1.0</td>\n",
       "      <td>Yes</td>\n",
       "      <td>NaN</td>\n",
       "    </tr>\n",
       "    <tr>\n",
       "      <th>262</th>\n",
       "      <td>263</td>\n",
       "      <td>31</td>\n",
       "      <td>Female</td>\n",
       "      <td>2021-11-08 21:00:00</td>\n",
       "      <td>2021-11-08 06:00:00</td>\n",
       "      <td>9.0</td>\n",
       "      <td>0.76</td>\n",
       "      <td>23</td>\n",
       "      <td>60</td>\n",
       "      <td>17</td>\n",
       "      <td>4.0</td>\n",
       "      <td>50.0</td>\n",
       "      <td>0.0</td>\n",
       "      <td>No</td>\n",
       "      <td>NaN</td>\n",
       "    </tr>\n",
       "    <tr>\n",
       "      <th>304</th>\n",
       "      <td>305</td>\n",
       "      <td>25</td>\n",
       "      <td>Male</td>\n",
       "      <td>2021-05-01 00:00:00</td>\n",
       "      <td>2021-05-01 08:00:00</td>\n",
       "      <td>8.0</td>\n",
       "      <td>0.84</td>\n",
       "      <td>15</td>\n",
       "      <td>70</td>\n",
       "      <td>15</td>\n",
       "      <td>4.0</td>\n",
       "      <td>0.0</td>\n",
       "      <td>4.0</td>\n",
       "      <td>No</td>\n",
       "      <td>NaN</td>\n",
       "    </tr>\n",
       "    <tr>\n",
       "      <th>366</th>\n",
       "      <td>367</td>\n",
       "      <td>52</td>\n",
       "      <td>Male</td>\n",
       "      <td>2021-10-13 23:00:00</td>\n",
       "      <td>2021-10-13 07:00:00</td>\n",
       "      <td>8.0</td>\n",
       "      <td>0.82</td>\n",
       "      <td>20</td>\n",
       "      <td>70</td>\n",
       "      <td>10</td>\n",
       "      <td>3.0</td>\n",
       "      <td>75.0</td>\n",
       "      <td>0.0</td>\n",
       "      <td>No</td>\n",
       "      <td>NaN</td>\n",
       "    </tr>\n",
       "    <tr>\n",
       "      <th>446</th>\n",
       "      <td>447</td>\n",
       "      <td>23</td>\n",
       "      <td>Male</td>\n",
       "      <td>2021-04-21 00:00:00</td>\n",
       "      <td>2021-04-21 07:00:00</td>\n",
       "      <td>7.0</td>\n",
       "      <td>0.50</td>\n",
       "      <td>15</td>\n",
       "      <td>40</td>\n",
       "      <td>45</td>\n",
       "      <td>2.0</td>\n",
       "      <td>0.0</td>\n",
       "      <td>4.0</td>\n",
       "      <td>Yes</td>\n",
       "      <td>NaN</td>\n",
       "    </tr>\n",
       "  </tbody>\n",
       "</table>\n",
       "</div>"
      ],
      "text/plain": [
       "      ID  Age  Gender             Bedtime         Wakeup time  Sleep duration  \\\n",
       "33    34   37  Female 2021-11-28 00:30:00 2021-11-28 07:30:00             7.0   \n",
       "262  263   31  Female 2021-11-08 21:00:00 2021-11-08 06:00:00             9.0   \n",
       "304  305   25    Male 2021-05-01 00:00:00 2021-05-01 08:00:00             8.0   \n",
       "366  367   52    Male 2021-10-13 23:00:00 2021-10-13 07:00:00             8.0   \n",
       "446  447   23    Male 2021-04-21 00:00:00 2021-04-21 07:00:00             7.0   \n",
       "\n",
       "     Sleep efficiency  REM sleep percentage  Deep sleep percentage  \\\n",
       "33               0.90                    28                     53   \n",
       "262              0.76                    23                     60   \n",
       "304              0.84                    15                     70   \n",
       "366              0.82                    20                     70   \n",
       "446              0.50                    15                     40   \n",
       "\n",
       "     Light sleep percentage  Awakenings  Caffeine consumption  \\\n",
       "33                       19         0.0                  25.0   \n",
       "262                      17         4.0                  50.0   \n",
       "304                      15         4.0                   0.0   \n",
       "366                      10         3.0                  75.0   \n",
       "446                      45         2.0                   0.0   \n",
       "\n",
       "     Alcohol consumption Smoking status  Exercise frequency  \n",
       "33                   1.0            Yes                 NaN  \n",
       "262                  0.0             No                 NaN  \n",
       "304                  4.0             No                 NaN  \n",
       "366                  0.0             No                 NaN  \n",
       "446                  4.0            Yes                 NaN  "
      ]
     },
     "execution_count": 30,
     "metadata": {},
     "output_type": "execute_result"
    }
   ],
   "source": [
    "df[df[\"Exercise frequency\"].isnull()]"
   ]
  },
  {
   "cell_type": "code",
   "execution_count": 31,
   "metadata": {},
   "outputs": [
    {
     "data": {
      "text/plain": [
       "count    443.000000\n",
       "mean       1.785553\n",
       "std        1.430618\n",
       "min        0.000000\n",
       "25%        0.000000\n",
       "50%        2.000000\n",
       "75%        3.000000\n",
       "max        5.000000\n",
       "Name: Exercise frequency, dtype: float64"
      ]
     },
     "execution_count": 31,
     "metadata": {},
     "output_type": "execute_result"
    }
   ],
   "source": [
    "df[\"Exercise frequency\"].describe()"
   ]
  },
  {
   "cell_type": "code",
   "execution_count": 32,
   "metadata": {},
   "outputs": [
    {
     "data": {
      "text/plain": [
       "87.94642857142857"
      ]
     },
     "execution_count": 32,
     "metadata": {},
     "output_type": "execute_result"
    }
   ],
   "source": [
    "(df[\"Exercise frequency\"]<=3.0).sum()/df[\"Exercise frequency\"].__len__()*100"
   ]
  },
  {
   "cell_type": "code",
   "execution_count": 33,
   "metadata": {},
   "outputs": [
    {
     "name": "stderr",
     "output_type": "stream",
     "text": [
      "C:\\Users\\DELL\\AppData\\Local\\Temp\\ipykernel_8724\\4152119879.py:1: FutureWarning: A value is trying to be set on a copy of a DataFrame or Series through chained assignment using an inplace method.\n",
      "The behavior will change in pandas 3.0. This inplace method will never work because the intermediate object on which we are setting values always behaves as a copy.\n",
      "\n",
      "For example, when doing 'df[col].method(value, inplace=True)', try using 'df.method({col: value}, inplace=True)' or df[col] = df[col].method(value) instead, to perform the operation inplace on the original object.\n",
      "\n",
      "\n",
      "  df[\"Exercise frequency\"].fillna(np.round(df[df[\"Exercise frequency\"]<=3.0][\"Exercise frequency\"].mean()),inplace=True)\n"
     ]
    }
   ],
   "source": [
    "df[\"Exercise frequency\"].fillna(np.round(df[df[\"Exercise frequency\"]<=3.0][\"Exercise frequency\"].mean()),inplace=True)"
   ]
  },
  {
   "cell_type": "code",
   "execution_count": 34,
   "metadata": {},
   "outputs": [
    {
     "data": {
      "text/plain": [
       "0"
      ]
     },
     "execution_count": 34,
     "metadata": {},
     "output_type": "execute_result"
    }
   ],
   "source": [
    "df[\"Exercise frequency\"].isna().sum()"
   ]
  },
  {
   "cell_type": "markdown",
   "metadata": {},
   "source": [
    "Outlier Detection and treating them."
   ]
  },
  {
   "cell_type": "code",
   "execution_count": 78,
   "metadata": {},
   "outputs": [],
   "source": [
    "import sklearn.preprocessing as skpre\n",
    "import pandas as pd\n",
    "import numpy as np\n",
    "import matplotlib.pyplot as plt\n",
    "from scipy.stats import norm,stats\n",
    "import seaborn as sns"
   ]
  },
  {
   "cell_type": "code",
   "execution_count": 77,
   "metadata": {},
   "outputs": [],
   "source": [
    "class emp_rule():\n",
    "        def __init__(self,column:str,df:pd.DataFrame):\n",
    "            self.column = column\n",
    "            self.df = df\n",
    "            self.data_fit()\n",
    "\n",
    "        def data_fit(self):\n",
    "            scalar = skpre.StandardScaler()\n",
    "            scalar.fit(self.df[self.column].to_numpy().reshape(-1,1))\n",
    "            self.mean = scalar.mean_\n",
    "            self.std = scalar.scale_\n",
    "            return scalar\n",
    "\n",
    "        def data_transform(self,scalar):\n",
    "            self.z_scores = scalar.transform(self.df[self.column].to_numpy().reshape(-1,1))\n",
    "            self.z_scores_mean = self.z_scores.mean()\n",
    "            self.z_scores_std =self.z_scores.std()\n",
    "\n",
    "        def fit_emp_graph(self):\n",
    "            std_1 = self.z_scores_mean+1*self.z_scores_std\n",
    "            std_1_ = self.z_scores_mean-1*self.z_scores_std\n",
    "            std_2 = self.z_scores_mean+2*self.z_scores_std\n",
    "            std_2_ = self.z_scores_mean-2*self.z_scores_std \n",
    "            std_3 = self.z_scores_mean+3*self.z_scores_std\n",
    "            std_3_ = self.z_scores_mean-3*self.z_scores_std\n",
    "\n",
    "            self.per_0 = np.round(((self.z_scores>=std_1_) & (self.z_scores<=std_1)).sum()/self.z_scores.__len__()*100,2)\n",
    "            self.per_1 = np.round(((self.z_scores>=std_2_) & (self.z_scores<=std_2)).sum()/self.z_scores.__len__()*100,2)\n",
    "            self.per_2 = np.round(((self.z_scores>=std_3_) & (self.z_scores<=std_3)).sum()/self.z_scores.__len__()*100,2)\n",
    "\n",
    "\n",
    "        def plot_emp_graph(self,ax,bin_val):\n",
    "            ax[0].hist(self.z_scores,bins=bin_val,density=True)\n",
    "            for i in range(-2,3,1):\n",
    "                x = 0 + i * 1\n",
    "                y = 1/(self.z_scores_std*(np.sqrt(2*np.pi))*(np.exp((x-self.z_scores_mean)**2/2*self.z_scores_std**2)))\n",
    "                ax[0].plot([x,x],[0,y],linestyle=\"--\",alpha = 0.5,color = 'r')\n",
    "                ax[0].annotate(f\"{getattr(self,'per_'+str(abs(i)))}%\",xy=(x,y),xytext=(x-0.1,y+0.01),fontsize=8,color='r')\n",
    "            ax[1].hist(self.df[self.column],bins=bin_val,density=True)\n",
    "            values = np.linspace(self.df[self.column].min(),self.df[self.column].max(),100)\n",
    "            pd = norm.pdf(values,loc=self.df[self.column].mean(),scale=self.df[self.column].std())\n",
    "            ax[1].plot(values,pd)\n"
   ]
  },
  {
   "cell_type": "code",
   "execution_count": 127,
   "metadata": {},
   "outputs": [
    {
     "data": {
      "image/png": "[encoded data removed]",
      "text/plain": [
       "<Figure size 640x480 with 2 Axes>"
      ]
     },
     "metadata": {},
     "output_type": "display_data"
    }
   ],
   "source": [
    "fig,ax = plt.subplots(1,2)\n",
    "age = emp_rule(\"Age\",df)\n",
    "s_age = age.data_fit()\n",
    "age.data_transform(s_age)\n",
    "age.fit_emp_graph()\n",
    "age.plot_emp_graph(ax,10)"
   ]
  },
  {
   "cell_type": "code",
   "execution_count": 52,
   "metadata": {},
   "outputs": [],
   "source": [
    "age_quatiles = []\n",
    "for i in range(1,101):\n",
    "    age_quatiles.append(np.percentile(df[\"Age\"].sort_values(),i))"
   ]
  },
  {
   "cell_type": "code",
   "execution_count": 93,
   "metadata": {},
   "outputs": [],
   "source": [
    "samples = np.random.normal(loc=0,scale=1,size=1000)\n",
    "sorted_samples = sorted(samples)"
   ]
  },
  {
   "cell_type": "code",
   "execution_count": 94,
   "metadata": {},
   "outputs": [],
   "source": [
    "sample_quatiles = []\n",
    "for i in range(1,101):\n",
    "    sample_quatiles.append(np.percentile(sorted_samples,i))"
   ]
  },
  {
   "cell_type": "code",
   "execution_count": 135,
   "metadata": {},
   "outputs": [
    {
     "data": {
      "text/plain": [
       "<AxesSubplot:>"
      ]
     },
     "execution_count": 135,
     "metadata": {},
     "output_type": "execute_result"
    },
    {
     "data": {
      "image/png": "[encoded data removed]",
      "text/plain": [
       "<Figure size 640x480 with 1 Axes>"
      ]
     },
     "metadata": {},
     "output_type": "display_data"
    }
   ],
   "source": [
    "sns.scatterplot(x=x_quatiles,y=sample_quatiles)"
   ]
  },
  {
   "cell_type": "code",
   "execution_count": 95,
   "metadata": {},
   "outputs": [
    {
     "data": {
      "text/plain": [
       "<AxesSubplot:>"
      ]
     },
     "execution_count": 95,
     "metadata": {},
     "output_type": "execute_result"
    },
    {
     "data": {
      "image/png": "[encoded data removed]",
      "text/plain": [
       "<Figure size 640x480 with 1 Axes>"
      ]
     },
     "metadata": {},
     "output_type": "display_data"
    }
   ],
   "source": [
    "sns.scatterplot(x=age_quatiles,y=sample_quatiles)"
   ]
  },
  {
   "cell_type": "code",
   "execution_count": 96,
   "metadata": {},
   "outputs": [
    {
     "data": {
      "text/plain": [
       "array([[100.        ,  98.90767998],\n",
       "       [ 98.90767998, 100.        ]])"
      ]
     },
     "execution_count": 96,
     "metadata": {},
     "output_type": "execute_result"
    }
   ],
   "source": [
    "np.corrcoef(sample_quatiles,age_quatiles)*100"
   ]
  },
  {
   "cell_type": "code",
   "execution_count": 115,
   "metadata": {},
   "outputs": [
    {
     "name": "stderr",
     "output_type": "stream",
     "text": [
      "C:\\Users\\DELL\\AppData\\Local\\Temp\\ipykernel_8724\\2930871627.py:1: DeprecationWarning: Please use `kurtosis` from the `scipy.stats` namespace, the `scipy.stats.stats` namespace is deprecated.\n",
      "  stats.kurtosis(df[\"Age\"])\n"
     ]
    },
    {
     "data": {
      "text/plain": [
       "-0.9549694862684603"
      ]
     },
     "execution_count": 115,
     "metadata": {},
     "output_type": "execute_result"
    }
   ],
   "source": [
    "stats.kurtosis(df[\"Age\"])"
   ]
  },
  {
   "cell_type": "code",
   "execution_count": 98,
   "metadata": {},
   "outputs": [
    {
     "data": {
      "text/plain": [
       "0.03246332565102047"
      ]
     },
     "execution_count": 98,
     "metadata": {},
     "output_type": "execute_result"
    }
   ],
   "source": [
    "df[\"Age\"].skew()"
   ]
  },
  {
   "cell_type": "code",
   "execution_count": null,
   "metadata": {},
   "outputs": [
    {
     "data": {
      "text/plain": [
       "count    448.000000\n",
       "mean      40.330357\n",
       "std       13.209134\n",
       "min        9.000000\n",
       "25%       29.000000\n",
       "50%       40.000000\n",
       "75%       52.000000\n",
       "max       69.000000\n",
       "Name: Age, dtype: float64"
      ]
     },
     "execution_count": 142,
     "metadata": {},
     "output_type": "execute_result"
    }
   ],
   "source": [
    "df[\"Age\"].describe()"
   ]
  },
  {
   "cell_type": "markdown",
   "metadata": {},
   "source": [
    "Conclusion of Age Column is there are no outiers."
   ]
  },
  {
   "cell_type": "code",
   "execution_count": 126,
   "metadata": {},
   "outputs": [
    {
     "data": {
      "text/plain": [
       "(array([ 11.,  34., 153.,  86., 130.,  26.,   8.]),\n",
       " array([ 5.        ,  5.71428571,  6.42857143,  7.14285714,  7.85714286,\n",
       "         8.57142857,  9.28571429, 10.        ]),\n",
       " <BarContainer object of 7 artists>)"
      ]
     },
     "execution_count": 126,
     "metadata": {},
     "output_type": "execute_result"
    },
    {
     "data": {
      "image/png": "[encoded data removed]",
      "text/plain": [
       "<Figure size 640x480 with 1 Axes>"
      ]
     },
     "metadata": {},
     "output_type": "display_data"
    }
   ],
   "source": [
    "#sleep Duration\n",
    "plt.hist(df[\"Sleep duration\"],bins=7)"
   ]
  },
  {
   "cell_type": "code",
   "execution_count": 111,
   "metadata": {},
   "outputs": [
    {
     "data": {
      "image/png": "[encoded data removed]",
      "text/plain": [
       "<Figure size 640x480 with 2 Axes>"
      ]
     },
     "metadata": {},
     "output_type": "display_data"
    }
   ],
   "source": [
    "fig,ax = plt.subplots(1,2)\n",
    "sd = emp_rule(\"Sleep duration\",df)\n",
    "s_sd = age.data_fit()\n",
    "sd.data_transform(s_age)\n",
    "sd.fit_emp_graph()\n",
    "sd.plot_emp_graph(ax,4)"
   ]
  },
  {
   "cell_type": "code",
   "execution_count": 102,
   "metadata": {},
   "outputs": [],
   "source": [
    "sd_quatiles=[]\n",
    "for i in range(1,101):\n",
    "    sd_quatiles.append(np.percentile(df[\"Sleep duration\"].sort_values(),i))"
   ]
  },
  {
   "cell_type": "code",
   "execution_count": 103,
   "metadata": {},
   "outputs": [
    {
     "data": {
      "text/plain": [
       "[-2.4088371318163286,\n",
       " -1.9391635936613412,\n",
       " -1.8236057984247798,\n",
       " -1.6361948138920444,\n",
       " -1.5198864193438626,\n",
       " -1.456240132970383,\n",
       " -1.381631696701546,\n",
       " -1.345214748464689,\n",
       " -1.295395240197092,\n",
       " -1.2157000575127137,\n",
       " -1.1927889305136306,\n",
       " -1.1403634651038046,\n",
       " -1.1037388606429994,\n",
       " -1.0504586096308512,\n",
       " -1.0211230560946583,\n",
       " -0.9574442742462551,\n",
       " -0.9329601554443145,\n",
       " -0.8984933550676131,\n",
       " -0.8804078771739816,\n",
       " -0.858096817471477,\n",
       " -0.8277406172649179,\n",
       " -0.8085554334375396,\n",
       " -0.7799740123255919,\n",
       " -0.7390686635786975,\n",
       " -0.6896944315362499,\n",
       " -0.6655296747130964,\n",
       " -0.6252294145825397,\n",
       " -0.5929581926358596,\n",
       " -0.5660857547136976,\n",
       " -0.5426247193006151,\n",
       " -0.515071856158733,\n",
       " -0.49224218702338146,\n",
       " -0.47240348840733865,\n",
       " -0.43289681292753524,\n",
       " -0.38537534649297595,\n",
       " -0.36588421583239206,\n",
       " -0.3343851805013046,\n",
       " -0.28916522666878003,\n",
       " -0.270572526248294,\n",
       " -0.25685444284669456,\n",
       " -0.2185151051276837,\n",
       " -0.20544020438967361,\n",
       " -0.16476360135790782,\n",
       " -0.14516867442207057,\n",
       " -0.12185367418502009,\n",
       " -0.09966054123368838,\n",
       " -0.0740421292068247,\n",
       " -0.04900597168905231,\n",
       " -0.02492200494544182,\n",
       " -0.006792080481713003,\n",
       " 0.024746133030806944,\n",
       " 0.0558883749696322,\n",
       " 0.06874792000508745,\n",
       " 0.09496028974515394,\n",
       " 0.12298025999683632,\n",
       " 0.1534434521603103,\n",
       " 0.18460714374014653,\n",
       " 0.21153069923502502,\n",
       " 0.22866236092340242,\n",
       " 0.25290942729879756,\n",
       " 0.2755173085252119,\n",
       " 0.31513104791849433,\n",
       " 0.3544823910908217,\n",
       " 0.36784950128035365,\n",
       " 0.3878588121900662,\n",
       " 0.41353049848316115,\n",
       " 0.4421486618564884,\n",
       " 0.4691360423094462,\n",
       " 0.49873499953156575,\n",
       " 0.5355300877385183,\n",
       " 0.5848365979020052,\n",
       " 0.6160857414585396,\n",
       " 0.6468081689953754,\n",
       " 0.6842310901062668,\n",
       " 0.7185816593462466,\n",
       " 0.743334660969061,\n",
       " 0.7703699687701587,\n",
       " 0.7956824256354649,\n",
       " 0.8126287810353555,\n",
       " 0.8460538378841342,\n",
       " 0.885778998688934,\n",
       " 0.9308538500942078,\n",
       " 0.9527169601469052,\n",
       " 1.01873654196749,\n",
       " 1.0619847596616327,\n",
       " 1.101611181037132,\n",
       " 1.1384748254383892,\n",
       " 1.1729728349884134,\n",
       " 1.215512022603963,\n",
       " 1.2820179240756333,\n",
       " 1.344228784222485,\n",
       " 1.405973402265134,\n",
       " 1.4685556577151473,\n",
       " 1.5305554553979284,\n",
       " 1.640151222344834,\n",
       " 1.7054801686306795,\n",
       " 1.866099354057638,\n",
       " 2.0383857709225928,\n",
       " 2.239273590366541,\n",
       " 2.937958306953923]"
      ]
     },
     "execution_count": 103,
     "metadata": {},
     "output_type": "execute_result"
    }
   ],
   "source": [
    "sample_quatiles"
   ]
  },
  {
   "cell_type": "code",
   "execution_count": 112,
   "metadata": {},
   "outputs": [
    {
     "data": {
      "text/plain": [
       "<AxesSubplot:>"
      ]
     },
     "execution_count": 112,
     "metadata": {},
     "output_type": "execute_result"
    },
    {
     "data": {
      "image/png": "[encoded data removed]",
      "text/plain": [
       "<Figure size 640x480 with 1 Axes>"
      ]
     },
     "metadata": {},
     "output_type": "display_data"
    }
   ],
   "source": [
    "sns.scatterplot(x=sd_quatiles,y=sample_quatiles)"
   ]
  },
  {
   "cell_type": "code",
   "execution_count": 113,
   "metadata": {},
   "outputs": [
    {
     "data": {
      "text/plain": [
       "array([[1.        , 0.96481199],\n",
       "       [0.96481199, 1.        ]])"
      ]
     },
     "execution_count": 113,
     "metadata": {},
     "output_type": "execute_result"
    }
   ],
   "source": [
    "np.corrcoef(sd_quatiles,sample_quatiles)"
   ]
  },
  {
   "cell_type": "code",
   "execution_count": 114,
   "metadata": {},
   "outputs": [
    {
     "name": "stderr",
     "output_type": "stream",
     "text": [
      "C:\\Users\\DELL\\AppData\\Local\\Temp\\ipykernel_8724\\488339725.py:1: DeprecationWarning: Please use `kurtosis` from the `scipy.stats` namespace, the `scipy.stats.stats` namespace is deprecated.\n",
      "  stats.kurtosis(df[\"Sleep duration\"])\n"
     ]
    },
    {
     "data": {
      "text/plain": [
       "0.9910983935985702"
      ]
     },
     "execution_count": 114,
     "metadata": {},
     "output_type": "execute_result"
    }
   ],
   "source": [
    "stats.kurtosis(df[\"Sleep duration\"])"
   ]
  },
  {
   "cell_type": "code",
   "execution_count": null,
   "metadata": {},
   "outputs": [
    {
     "data": {
      "text/plain": [
       "count    448.000000\n",
       "mean       7.465402\n",
       "std        0.869845\n",
       "min        5.000000\n",
       "25%        7.000000\n",
       "50%        7.500000\n",
       "75%        8.000000\n",
       "max       10.000000\n",
       "Name: Sleep duration, dtype: float64"
      ]
     },
     "execution_count": 134,
     "metadata": {},
     "output_type": "execute_result"
    }
   ],
   "source": [
    "df[\"Sleep duration\"].describe()"
   ]
  },
  {
   "cell_type": "markdown",
   "metadata": {},
   "source": [
    "Conclusion of sleep duration column: there exists no outliers"
   ]
  },
  {
   "cell_type": "code",
   "execution_count": null,
   "metadata": {},
   "outputs": [
    {
     "data": {
      "text/html": [
       "<div>\n",
       "<style scoped>\n",
       "    .dataframe tbody tr th:only-of-type {\n",
       "        vertical-align: middle;\n",
       "    }\n",
       "\n",
       "    .dataframe tbody tr th {\n",
       "        vertical-align: top;\n",
       "    }\n",
       "\n",
       "    .dataframe thead th {\n",
       "        text-align: right;\n",
       "    }\n",
       "</style>\n",
       "<table border=\"1\" class=\"dataframe\">\n",
       "  <thead>\n",
       "    <tr style=\"text-align: right;\">\n",
       "      <th></th>\n",
       "      <th>ID</th>\n",
       "      <th>Age</th>\n",
       "      <th>Gender</th>\n",
       "      <th>Bedtime</th>\n",
       "      <th>Wakeup time</th>\n",
       "      <th>Sleep duration</th>\n",
       "      <th>Sleep efficiency</th>\n",
       "      <th>REM sleep percentage</th>\n",
       "      <th>Deep sleep percentage</th>\n",
       "      <th>Light sleep percentage</th>\n",
       "      <th>Awakenings</th>\n",
       "      <th>Caffeine consumption</th>\n",
       "      <th>Alcohol consumption</th>\n",
       "      <th>Smoking status</th>\n",
       "      <th>Exercise frequency</th>\n",
       "    </tr>\n",
       "  </thead>\n",
       "  <tbody>\n",
       "    <tr>\n",
       "      <th>0</th>\n",
       "      <td>1</td>\n",
       "      <td>65</td>\n",
       "      <td>Female</td>\n",
       "      <td>2021-03-06 01:00:00</td>\n",
       "      <td>2021-03-06 07:00:00</td>\n",
       "      <td>6.0</td>\n",
       "      <td>0.88</td>\n",
       "      <td>18</td>\n",
       "      <td>70</td>\n",
       "      <td>12</td>\n",
       "      <td>0.0</td>\n",
       "      <td>0.0</td>\n",
       "      <td>0.0</td>\n",
       "      <td>Yes</td>\n",
       "      <td>3.0</td>\n",
       "    </tr>\n",
       "    <tr>\n",
       "      <th>1</th>\n",
       "      <td>2</td>\n",
       "      <td>69</td>\n",
       "      <td>Male</td>\n",
       "      <td>2021-12-05 02:00:00</td>\n",
       "      <td>2021-12-05 09:00:00</td>\n",
       "      <td>7.0</td>\n",
       "      <td>0.66</td>\n",
       "      <td>19</td>\n",
       "      <td>28</td>\n",
       "      <td>53</td>\n",
       "      <td>3.0</td>\n",
       "      <td>0.0</td>\n",
       "      <td>3.0</td>\n",
       "      <td>Yes</td>\n",
       "      <td>3.0</td>\n",
       "    </tr>\n",
       "    <tr>\n",
       "      <th>2</th>\n",
       "      <td>3</td>\n",
       "      <td>40</td>\n",
       "      <td>Female</td>\n",
       "      <td>2021-05-25 21:30:00</td>\n",
       "      <td>2021-05-25 05:30:00</td>\n",
       "      <td>8.0</td>\n",
       "      <td>0.89</td>\n",
       "      <td>20</td>\n",
       "      <td>70</td>\n",
       "      <td>10</td>\n",
       "      <td>1.0</td>\n",
       "      <td>0.0</td>\n",
       "      <td>0.0</td>\n",
       "      <td>No</td>\n",
       "      <td>3.0</td>\n",
       "    </tr>\n",
       "    <tr>\n",
       "      <th>3</th>\n",
       "      <td>4</td>\n",
       "      <td>40</td>\n",
       "      <td>Female</td>\n",
       "      <td>2021-11-03 02:30:00</td>\n",
       "      <td>2021-11-03 08:30:00</td>\n",
       "      <td>6.0</td>\n",
       "      <td>0.51</td>\n",
       "      <td>23</td>\n",
       "      <td>25</td>\n",
       "      <td>52</td>\n",
       "      <td>3.0</td>\n",
       "      <td>50.0</td>\n",
       "      <td>5.0</td>\n",
       "      <td>Yes</td>\n",
       "      <td>1.0</td>\n",
       "    </tr>\n",
       "  </tbody>\n",
       "</table>\n",
       "</div>"
      ],
      "text/plain": [
       "   ID  Age  Gender             Bedtime         Wakeup time  Sleep duration  \\\n",
       "0   1   65  Female 2021-03-06 01:00:00 2021-03-06 07:00:00             6.0   \n",
       "1   2   69    Male 2021-12-05 02:00:00 2021-12-05 09:00:00             7.0   \n",
       "2   3   40  Female 2021-05-25 21:30:00 2021-05-25 05:30:00             8.0   \n",
       "3   4   40  Female 2021-11-03 02:30:00 2021-11-03 08:30:00             6.0   \n",
       "\n",
       "   Sleep efficiency  REM sleep percentage  Deep sleep percentage  \\\n",
       "0              0.88                    18                     70   \n",
       "1              0.66                    19                     28   \n",
       "2              0.89                    20                     70   \n",
       "3              0.51                    23                     25   \n",
       "\n",
       "   Light sleep percentage  Awakenings  Caffeine consumption  \\\n",
       "0                      12         0.0                   0.0   \n",
       "1                      53         3.0                   0.0   \n",
       "2                      10         1.0                   0.0   \n",
       "3                      52         3.0                  50.0   \n",
       "\n",
       "   Alcohol consumption Smoking status  Exercise frequency  \n",
       "0                  0.0            Yes                 3.0  \n",
       "1                  3.0            Yes                 3.0  \n",
       "2                  0.0             No                 3.0  \n",
       "3                  5.0            Yes                 1.0  "
      ]
     },
     "execution_count": 39,
     "metadata": {},
     "output_type": "execute_result"
    }
   ],
   "source": [
    "df.head(4)"
   ]
  }
 ],
 "metadata": {
  "kernelspec": {
   "display_name": "Python 3",
   "language": "python",
   "name": "python3"
  },
  "language_info": {
   "codemirror_mode": {
    "name": "ipython",
    "version": 3
   },
   "file_extension": ".py",
   "mimetype": "text/x-python",
   "name": "python",
   "nbconvert_exporter": "python",
   "pygments_lexer": "ipython3",
   "version": "3.9.1"
  }
 },
 "nbformat": 4,
 "nbformat_minor": 2
}
